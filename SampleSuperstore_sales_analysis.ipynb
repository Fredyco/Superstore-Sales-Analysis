{
 "cells": [
  {
   "attachments": {},
   "cell_type": "markdown",
   "metadata": {},
   "source": [
    "tableau\n",
    "\n",
    "https://public.tableau.com/views/Milestone1_16771641641230/Story1?:language=en-US&:display_count=n&:origin=viz_share_link"
   ]
  },
  {
   "attachments": {},
   "cell_type": "markdown",
   "metadata": {},
   "source": [
    "Data Kaggle\n",
    "\n",
    "https://community.tableau.com/s/question/0D54T00000CWeX8SAL/sample-superstore-sales-excelxls"
   ]
  },
  {
   "attachments": {},
   "cell_type": "markdown",
   "metadata": {},
   "source": [
    "# Introduction\n",
    "\n",
    "- Nama: Freddyco Rizky Apriananda\n",
    "- Batch: FTDS RMT-18"
   ]
  },
  {
   "attachments": {},
   "cell_type": "markdown",
   "metadata": {},
   "source": [
    "1. Latar Belakang\n",
    "\n",
    "Efisiensi adalah hal yang paling diperlukan pengusaha untuk mempertahankan ataupun mengembangkan usaha. Tanpa adanya efisiensi usaha hanya akan menghasilkan kerugian. Untuk itulah diperlukan adanya seorang data analyst untuk menganalisis data yang ada guna mengefisienkan usaha."
   ]
  },
  {
   "attachments": {},
   "cell_type": "markdown",
   "metadata": {},
   "source": [
    "2. Objective\n",
    "\n",
    "Objective untuk analisis kali ini adalah menganalisis kekurangan dan kelebihan dari hasil penjualan selama 2014-2017."
   ]
  },
  {
   "attachments": {},
   "cell_type": "markdown",
   "metadata": {},
   "source": [
    "3. Problem Statement\n",
    "\n",
    "Untuk memudahkan analisis data yang dilakukan kita dapat membagi data yang akan dianalisis menjadi beberapa bagian, yaitu \"Sales, Profit & Quantity\", \"Sub-Category\", \"Segment\", \"State\", \"Date\" dan \"Descriptive\"\n",
    "\n",
    "Sales, Profit & Quantity\n",
    "1. Dari tiga kategori barang yang ada apakah korelasi antara nilai jumlah barang yang terjual, Revenue dan Profitnya? Jelaskan.\n",
    "2. Kategori barang apa yang memiliki nilai jual tertinggi? Mengapa?\n",
    "3. Barang apa yang paling banyak dibeli oleh konsumen?\n",
    "\n",
    "Sub-Category\n",
    "1. Berdasarkan sub-category, barang apa yang memiliki nilai profit perjual tertinggi?\n",
    "2. Dari sub category yang ada barang manakah yang memiliki profit margin tertinggi?\n",
    "3. Apakah ada barang yang memiliki profit kurang dari 0?\n",
    "\n",
    "Segment\n",
    "1. Segment konsumen manakah yang memiliki jumlah profit tertinggi?\n",
    "2. Apakah segment konsumen memiliki prefensi kategori barang yang lebih disukai?\n",
    "3. Barang dengan kategori apa yang memiliki profit tertinggi disetiap segment?\n",
    "\n",
    "State\n",
    "1. State manakah yang memiliki profit tertinggi dan terendah?\n",
    "2. Apakah ada state yang memiliki profit kurang dari 0?\n",
    "\n",
    "Date\n",
    "1. Apakah tren nilai profit meningkat atau menurun atau stagnan setiap bulannya?\n",
    "2. Apakah ada bulan tertentu dimana profit lebih tinggi atau rendah dari bulan yang lain?\n",
    "\n",
    "Statistics\n",
    "1. Statistics Descriptive Analysis\n",
    "2. Statistics Inferential Analysis"
   ]
  },
  {
   "attachments": {},
   "cell_type": "markdown",
   "metadata": {},
   "source": [
    "# Data Loading & Cleaning"
   ]
  },
  {
   "attachments": {},
   "cell_type": "markdown",
   "metadata": {},
   "source": [
    "## Data Loading"
   ]
  },
  {
   "cell_type": "code",
   "execution_count": 105,
   "metadata": {},
   "outputs": [],
   "source": [
    "import pandas as pd\n",
    "import numpy as np\n",
    "import matplotlib.pyplot as plt\n",
    "from scipy import stats\n",
    "import seaborn as sns"
   ]
  },
  {
   "attachments": {},
   "cell_type": "markdown",
   "metadata": {},
   "source": [
    "Data didapatkan dari\n",
    "\n",
    "https://community.tableau.com/s/question/0D54T00000CWeX8SAL/sample-superstore-sales-excelxls"
   ]
  },
  {
   "cell_type": "code",
   "execution_count": null,
   "metadata": {},
   "outputs": [],
   "source": [
    "df = pd.read_excel(r\"C:\\Users\\User\\Downloads\\Sample - Superstore.xls\") # Data yang diolah"
   ]
  },
  {
   "attachments": {},
   "cell_type": "markdown",
   "metadata": {},
   "source": [
    "## Data Cleaning"
   ]
  },
  {
   "cell_type": "code",
   "execution_count": 106,
   "metadata": {},
   "outputs": [],
   "source": [
    "pd.set_option(\"display.max.columns\", None)"
   ]
  },
  {
   "cell_type": "code",
   "execution_count": 109,
   "metadata": {},
   "outputs": [],
   "source": [
    "df.columns = df.columns.str.replace(\" \",\"_\").str.lower() # menggunakan ini agar data yang ada hanya huruf kecil dan hanya menggunakan \"_\" sebagai penghubung\n",
    "df.columns = df.columns.str.replace(\"-\",\"_\").str.lower()"
   ]
  },
  {
   "cell_type": "code",
   "execution_count": 111,
   "metadata": {},
   "outputs": [],
   "source": [
    "df[\"my\"] = df['order_date'].dt.to_period('M') # Mencari month-year\n",
    "df[\"mm\"] = pd.to_datetime(df['order_date']).dt.month # Mencari hanya month"
   ]
  },
  {
   "attachments": {},
   "cell_type": "markdown",
   "metadata": {},
   "source": [
    "# Eksplorasi data"
   ]
  },
  {
   "attachments": {},
   "cell_type": "markdown",
   "metadata": {},
   "source": [
    "## Sales, Profit & Category"
   ]
  },
  {
   "attachments": {},
   "cell_type": "markdown",
   "metadata": {},
   "source": [
    "Total jumlah revenues secara keseluruhan"
   ]
  },
  {
   "cell_type": "code",
   "execution_count": 115,
   "metadata": {},
   "outputs": [],
   "source": [
    "totalr = df.groupby(\"category\")[\"sales\"].sum().reset_index(name=\"total_revenues\") # Category dan jumlah revenue"
   ]
  },
  {
   "attachments": {},
   "cell_type": "markdown",
   "metadata": {},
   "source": [
    "Total jumlah revenues perbulan per kategori"
   ]
  },
  {
   "cell_type": "code",
   "execution_count": 116,
   "metadata": {},
   "outputs": [],
   "source": [
    "totalrm = df.groupby([\"category\", \"my\"])[\"sales\"].sum().reset_index(name=\"total_revenues\") # Category, (bulan-tahun) dan jumlah revenue"
   ]
  },
  {
   "attachments": {},
   "cell_type": "markdown",
   "metadata": {},
   "source": [
    "Total jumlah jumlah barang terjual secara keseluruhan"
   ]
  },
  {
   "cell_type": "code",
   "execution_count": 118,
   "metadata": {},
   "outputs": [],
   "source": [
    "totalq = df.groupby(\"category\")[\"quantity\"].sum().reset_index(name=\"total_quantity\") # Category dan jumlah barang terjual"
   ]
  },
  {
   "attachments": {},
   "cell_type": "markdown",
   "metadata": {},
   "source": [
    "Total jumlah barang terjual setiap bulannya"
   ]
  },
  {
   "cell_type": "code",
   "execution_count": 119,
   "metadata": {},
   "outputs": [],
   "source": [
    "totalqm = df.groupby([\"category\", \"my\"])[\"quantity\"].sum().reset_index(name=\"total_quantity\") # Category, (bulan-tahun) dan jumlah barang terjual"
   ]
  },
  {
   "attachments": {},
   "cell_type": "markdown",
   "metadata": {},
   "source": [
    "Mencari jumlah profit secara keseluruhan"
   ]
  },
  {
   "cell_type": "code",
   "execution_count": 121,
   "metadata": {},
   "outputs": [],
   "source": [
    "totalp = df.groupby(\"category\")[\"profit\"].sum().reset_index(name=\"total_profit\") # Category dan jumlah profit"
   ]
  },
  {
   "attachments": {},
   "cell_type": "markdown",
   "metadata": {},
   "source": [
    "Mencari jumlah profit setiap bulannya"
   ]
  },
  {
   "cell_type": "code",
   "execution_count": 122,
   "metadata": {},
   "outputs": [],
   "source": [
    "totalpm = df.groupby([\"category\", \"my\"])[\"profit\"].sum().reset_index(name=\"total_profit\")# Category, (bulan-tahun) dan jumlah profit"
   ]
  },
  {
   "attachments": {},
   "cell_type": "markdown",
   "metadata": {},
   "source": [
    "mencari apakah ada korelasi antar jumlah revenue, jumlah barang terjual dan profit"
   ]
  },
  {
   "attachments": {},
   "cell_type": "markdown",
   "metadata": {},
   "source": [
    "Gabungan dari total revenue, total quantity dan total profit"
   ]
  },
  {
   "cell_type": "code",
   "execution_count": 171,
   "metadata": {},
   "outputs": [
    {
     "data": {
      "text/html": [
       "<div>\n",
       "<style scoped>\n",
       "    .dataframe tbody tr th:only-of-type {\n",
       "        vertical-align: middle;\n",
       "    }\n",
       "\n",
       "    .dataframe tbody tr th {\n",
       "        vertical-align: top;\n",
       "    }\n",
       "\n",
       "    .dataframe thead th {\n",
       "        text-align: right;\n",
       "    }\n",
       "</style>\n",
       "<table border=\"1\" class=\"dataframe\">\n",
       "  <thead>\n",
       "    <tr style=\"text-align: right;\">\n",
       "      <th></th>\n",
       "      <th>total_revenues</th>\n",
       "      <th>total_quantity</th>\n",
       "      <th>total_profit</th>\n",
       "    </tr>\n",
       "  </thead>\n",
       "  <tbody>\n",
       "    <tr>\n",
       "      <th>0</th>\n",
       "      <td>741999.795</td>\n",
       "      <td>8028</td>\n",
       "      <td>18451.273</td>\n",
       "    </tr>\n",
       "    <tr>\n",
       "      <th>1</th>\n",
       "      <td>719047.032</td>\n",
       "      <td>22906</td>\n",
       "      <td>122490.801</td>\n",
       "    </tr>\n",
       "    <tr>\n",
       "      <th>2</th>\n",
       "      <td>836154.033</td>\n",
       "      <td>6939</td>\n",
       "      <td>145454.948</td>\n",
       "    </tr>\n",
       "  </tbody>\n",
       "</table>\n",
       "</div>"
      ],
      "text/plain": [
       "   total_revenues  total_quantity  total_profit\n",
       "0      741999.795            8028     18451.273\n",
       "1      719047.032           22906    122490.801\n",
       "2      836154.033            6939    145454.948"
      ]
     },
     "execution_count": 171,
     "metadata": {},
     "output_type": "execute_result"
    }
   ],
   "source": [
    "totalc = pd.DataFrame() # Gabungan totalr, totalq dan totalp\n",
    "totalc[\"total_revenues\"] = totalr[\"total_revenues\"]\n",
    "totalc[\"total_quantity\"] = totalq[\"total_quantity\"]\n",
    "totalc[\"total_profit\"] = totalp[\"total_profit\"]\n",
    "totalc"
   ]
  },
  {
   "attachments": {},
   "cell_type": "markdown",
   "metadata": {},
   "source": [
    "Jumlah setiap bulannya"
   ]
  },
  {
   "cell_type": "code",
   "execution_count": 124,
   "metadata": {},
   "outputs": [],
   "source": [
    "# Digunakan untuk mencari nilai korelasi\n",
    "totalcm = pd.DataFrame()"
   ]
  },
  {
   "cell_type": "code",
   "execution_count": 125,
   "metadata": {},
   "outputs": [
    {
     "data": {
      "text/html": [
       "<div>\n",
       "<style scoped>\n",
       "    .dataframe tbody tr th:only-of-type {\n",
       "        vertical-align: middle;\n",
       "    }\n",
       "\n",
       "    .dataframe tbody tr th {\n",
       "        vertical-align: top;\n",
       "    }\n",
       "\n",
       "    .dataframe thead th {\n",
       "        text-align: right;\n",
       "    }\n",
       "</style>\n",
       "<table border=\"1\" class=\"dataframe\">\n",
       "  <thead>\n",
       "    <tr style=\"text-align: right;\">\n",
       "      <th></th>\n",
       "      <th>total_revenues</th>\n",
       "      <th>total_quantity</th>\n",
       "      <th>total_profit</th>\n",
       "    </tr>\n",
       "  </thead>\n",
       "  <tbody>\n",
       "    <tr>\n",
       "      <th>0</th>\n",
       "      <td>6242.525</td>\n",
       "      <td>70</td>\n",
       "      <td>805.466</td>\n",
       "    </tr>\n",
       "    <tr>\n",
       "      <th>1</th>\n",
       "      <td>1839.658</td>\n",
       "      <td>23</td>\n",
       "      <td>120.692</td>\n",
       "    </tr>\n",
       "    <tr>\n",
       "      <th>2</th>\n",
       "      <td>14573.956</td>\n",
       "      <td>131</td>\n",
       "      <td>-1128.655</td>\n",
       "    </tr>\n",
       "    <tr>\n",
       "      <th>3</th>\n",
       "      <td>7944.837</td>\n",
       "      <td>81</td>\n",
       "      <td>554.380</td>\n",
       "    </tr>\n",
       "    <tr>\n",
       "      <th>4</th>\n",
       "      <td>6912.787</td>\n",
       "      <td>97</td>\n",
       "      <td>-349.878</td>\n",
       "    </tr>\n",
       "    <tr>\n",
       "      <th>...</th>\n",
       "      <td>...</td>\n",
       "      <td>...</td>\n",
       "      <td>...</td>\n",
       "    </tr>\n",
       "    <tr>\n",
       "      <th>139</th>\n",
       "      <td>17619.162</td>\n",
       "      <td>144</td>\n",
       "      <td>2650.858</td>\n",
       "    </tr>\n",
       "    <tr>\n",
       "      <th>140</th>\n",
       "      <td>26942.603</td>\n",
       "      <td>312</td>\n",
       "      <td>4595.128</td>\n",
       "    </tr>\n",
       "    <tr>\n",
       "      <th>141</th>\n",
       "      <td>32855.663</td>\n",
       "      <td>229</td>\n",
       "      <td>7761.421</td>\n",
       "    </tr>\n",
       "    <tr>\n",
       "      <th>142</th>\n",
       "      <td>49918.773</td>\n",
       "      <td>383</td>\n",
       "      <td>5674.937</td>\n",
       "    </tr>\n",
       "    <tr>\n",
       "      <th>143</th>\n",
       "      <td>21984.910</td>\n",
       "      <td>268</td>\n",
       "      <td>5562.279</td>\n",
       "    </tr>\n",
       "  </tbody>\n",
       "</table>\n",
       "<p>144 rows × 3 columns</p>\n",
       "</div>"
      ],
      "text/plain": [
       "     total_revenues  total_quantity  total_profit\n",
       "0          6242.525              70       805.466\n",
       "1          1839.658              23       120.692\n",
       "2         14573.956             131     -1128.655\n",
       "3          7944.837              81       554.380\n",
       "4          6912.787              97      -349.878\n",
       "..              ...             ...           ...\n",
       "139       17619.162             144      2650.858\n",
       "140       26942.603             312      4595.128\n",
       "141       32855.663             229      7761.421\n",
       "142       49918.773             383      5674.937\n",
       "143       21984.910             268      5562.279\n",
       "\n",
       "[144 rows x 3 columns]"
      ]
     },
     "execution_count": 125,
     "metadata": {},
     "output_type": "execute_result"
    }
   ],
   "source": [
    "totalcm[\"total_revenues\"] = totalrm[\"total_revenues\"]\n",
    "totalcm[\"total_quantity\"] = totalqm[\"total_quantity\"]\n",
    "totalcm[\"total_profit\"] = totalpm[\"total_profit\"]\n",
    "totalcm  # Gabungan totalcm, totalpm dan totalqm untuk mencari nilai korelasi"
   ]
  },
  {
   "attachments": {},
   "cell_type": "markdown",
   "metadata": {},
   "source": [
    "Cek korelasi"
   ]
  },
  {
   "cell_type": "code",
   "execution_count": 126,
   "metadata": {},
   "outputs": [
    {
     "data": {
      "text/html": [
       "<div>\n",
       "<style scoped>\n",
       "    .dataframe tbody tr th:only-of-type {\n",
       "        vertical-align: middle;\n",
       "    }\n",
       "\n",
       "    .dataframe tbody tr th {\n",
       "        vertical-align: top;\n",
       "    }\n",
       "\n",
       "    .dataframe thead th {\n",
       "        text-align: right;\n",
       "    }\n",
       "</style>\n",
       "<table border=\"1\" class=\"dataframe\">\n",
       "  <thead>\n",
       "    <tr style=\"text-align: right;\">\n",
       "      <th></th>\n",
       "      <th>total_revenues</th>\n",
       "      <th>total_quantity</th>\n",
       "      <th>total_profit</th>\n",
       "    </tr>\n",
       "  </thead>\n",
       "  <tbody>\n",
       "    <tr>\n",
       "      <th>total_revenues</th>\n",
       "      <td>1.000</td>\n",
       "      <td>0.466</td>\n",
       "      <td>0.528</td>\n",
       "    </tr>\n",
       "    <tr>\n",
       "      <th>total_quantity</th>\n",
       "      <td>0.466</td>\n",
       "      <td>1.000</td>\n",
       "      <td>0.365</td>\n",
       "    </tr>\n",
       "    <tr>\n",
       "      <th>total_profit</th>\n",
       "      <td>0.528</td>\n",
       "      <td>0.365</td>\n",
       "      <td>1.000</td>\n",
       "    </tr>\n",
       "  </tbody>\n",
       "</table>\n",
       "</div>"
      ],
      "text/plain": [
       "                total_revenues  total_quantity  total_profit\n",
       "total_revenues           1.000           0.466         0.528\n",
       "total_quantity           0.466           1.000         0.365\n",
       "total_profit             0.528           0.365         1.000"
      ]
     },
     "execution_count": 126,
     "metadata": {},
     "output_type": "execute_result"
    }
   ],
   "source": [
    "totalcm.corr()"
   ]
  },
  {
   "cell_type": "code",
   "execution_count": 172,
   "metadata": {},
   "outputs": [
    {
     "data": {
      "text/plain": [
       "Text(0.5, 1.0, 'Total Profit')"
      ]
     },
     "execution_count": 172,
     "metadata": {},
     "output_type": "execute_result"
    },
    {
     "data": {
      "image/png": "[encoded data removed]",
      "text/plain": [
       "<Figure size 2100x500 with 3 Axes>"
      ]
     },
     "metadata": {},
     "output_type": "display_data"
    }
   ],
   "source": [
    "fig, ax = plt.subplots(ncols=3,figsize=(21,5))\n",
    "\n",
    "ax[0].pie(totalr[\"total_revenues\"], labels=totalr[\"category\"], autopct='%.0f%%')\n",
    "ax[0].set_title(\"Total Revenues\")\n",
    "ax[1].pie(totalq[\"total_quantity\"], labels=totalq[\"category\"], autopct='%.0f%%')\n",
    "ax[1].set_title(\"Total Quantity\")\n",
    "ax[2].pie(totalp[\"total_profit\"], labels=totalq[\"category\"], autopct='%.0f%%')\n",
    "ax[2].set_title(\"Total Profit\")"
   ]
  },
  {
   "attachments": {},
   "cell_type": "markdown",
   "metadata": {},
   "source": [
    "Insight"
   ]
  },
  {
   "attachments": {},
   "cell_type": "markdown",
   "metadata": {},
   "source": [
    "1. Ketiga kategori yaitu kategori Office Supplies, Furniture dan Technology tidak memiliki korelasi yang cukup tinggi. Buktinya dapat dilihat dari kode corr() atau dari pie chart. Dari pie chart terlihat bahwa meskipun persentase jumlah revenues yang ada terbagi hampir rata, tetapi nilai quantity dan profitnya mempunyai persentase jumlah yang sangat berbeda. Dapat dilihat juga dari kategori Technology yang meskipun memiliki total quantity yang paling kecil namun kategori Technology memiliki total profit yang paling besar. Oleh karena itu korelasi antara nilai kategori Revenues, Quantity dan Profit sangatlah kecil."
   ]
  },
  {
   "attachments": {},
   "cell_type": "markdown",
   "metadata": {},
   "source": [
    "2. Barang yang memiliki nilai jual tertinggi ialah barang dengan kategori Technology. Dapat dilihat pada piechart bahwa meskipun persentase quantity barang yang terjual paling kecil namun persentase profitnya yang paling besar. Oleh karena itu, jika jumlah quantity barang berkategori Technology yang terjual meningkat. Maka nilai profit yang meningkat akan lebih besar jika dibandingkan dengan kategori lain yang meningkat jumlah quantity barang terjualnya."
   ]
  },
  {
   "attachments": {},
   "cell_type": "markdown",
   "metadata": {},
   "source": [
    "3. Kategori barang yang paling banyak terjual adalah kategori barang Office Supplies dengan persentase barang yang terjual sebanyak 60% dari total jumlah barang yang terjual."
   ]
  },
  {
   "attachments": {},
   "cell_type": "markdown",
   "metadata": {},
   "source": [
    "## Sub-Category"
   ]
  },
  {
   "attachments": {},
   "cell_type": "markdown",
   "metadata": {},
   "source": [
    "Mencari profit margin dari setiap barang yang ada di sub category"
   ]
  },
  {
   "cell_type": "code",
   "execution_count": 129,
   "metadata": {},
   "outputs": [],
   "source": [
    "profitm = pd.DataFrame() # Digunakan untuk mencari Profit margin"
   ]
  },
  {
   "cell_type": "code",
   "execution_count": 253,
   "metadata": {},
   "outputs": [],
   "source": [
    "profitm1 = df.groupby([\"category\", \"sub_category\"])[\"sales\"].sum().reset_index(name=\"total_revenue\") # Digunakan untuk mencari nilai total revenue dari suatu barang\n",
    "profitm2 = df.groupby([\"category\", \"sub_category\"])[\"profit\"].sum().reset_index(name=\"total_profit\") # Digunakan untuk mencari nilai total profit dari suatu barang\n",
    "profitm3 = df.groupby([\"category\", \"sub_category\"])[\"quantity\"].sum().reset_index(name=\"total_quantity\") # Digunakan untuk mencari nilai total jumlah barang terjual"
   ]
  },
  {
   "attachments": {},
   "cell_type": "markdown",
   "metadata": {},
   "source": [
    "Buat Dataframe baru untuk memudahkan menghitung"
   ]
  },
  {
   "cell_type": "code",
   "execution_count": 131,
   "metadata": {},
   "outputs": [],
   "source": [
    "# Buat Data frame profit untuk memudahkan perhitungan\n",
    "profitm[\"category\"] = profitm1[\"category\"]\n",
    "profitm[\"sub_category\"] = profitm1[\"sub_category\"]\n",
    "profitm[\"total_profit\"] = profitm2[\"total_profit\"]\n",
    "profitm[\"total_revenue\"] = profitm1[\"total_revenue\"]\n",
    "profitm[\"profit_average\"] = profitm2[\"total_profit\"]/profitm3[\"total_quantity\"]\n",
    "profitm[\"profit_percentage\"] = profitm2[\"total_profit\"]/profitm1[\"total_revenue\"]\n",
    "# Gabungan profitm1, profitm2, profitm3"
   ]
  },
  {
   "attachments": {},
   "cell_type": "markdown",
   "metadata": {},
   "source": [
    "Profitm adalah dataframe yang dirutukan dari nilai jumlah profit percentage yang paling tinggi ke nilai profit percentage yang paling rendah"
   ]
  },
  {
   "cell_type": "code",
   "execution_count": 132,
   "metadata": {},
   "outputs": [
    {
     "data": {
      "text/html": [
       "<div>\n",
       "<style scoped>\n",
       "    .dataframe tbody tr th:only-of-type {\n",
       "        vertical-align: middle;\n",
       "    }\n",
       "\n",
       "    .dataframe tbody tr th {\n",
       "        vertical-align: top;\n",
       "    }\n",
       "\n",
       "    .dataframe thead th {\n",
       "        text-align: right;\n",
       "    }\n",
       "</style>\n",
       "<table border=\"1\" class=\"dataframe\">\n",
       "  <thead>\n",
       "    <tr style=\"text-align: right;\">\n",
       "      <th></th>\n",
       "      <th>category</th>\n",
       "      <th>sub_category</th>\n",
       "      <th>total_profit</th>\n",
       "      <th>total_revenue</th>\n",
       "      <th>profit_average</th>\n",
       "      <th>profit_percentage</th>\n",
       "    </tr>\n",
       "  </thead>\n",
       "  <tbody>\n",
       "    <tr>\n",
       "      <th>9</th>\n",
       "      <td>Office Supplies</td>\n",
       "      <td>Labels</td>\n",
       "      <td>5546.254</td>\n",
       "      <td>12486.312</td>\n",
       "      <td>3.962</td>\n",
       "      <td>0.444</td>\n",
       "    </tr>\n",
       "    <tr>\n",
       "      <th>10</th>\n",
       "      <td>Office Supplies</td>\n",
       "      <td>Paper</td>\n",
       "      <td>34053.569</td>\n",
       "      <td>78479.206</td>\n",
       "      <td>6.577</td>\n",
       "      <td>0.434</td>\n",
       "    </tr>\n",
       "    <tr>\n",
       "      <th>7</th>\n",
       "      <td>Office Supplies</td>\n",
       "      <td>Envelopes</td>\n",
       "      <td>6964.177</td>\n",
       "      <td>16476.402</td>\n",
       "      <td>7.687</td>\n",
       "      <td>0.423</td>\n",
       "    </tr>\n",
       "    <tr>\n",
       "      <th>14</th>\n",
       "      <td>Technology</td>\n",
       "      <td>Copiers</td>\n",
       "      <td>55617.825</td>\n",
       "      <td>149528.030</td>\n",
       "      <td>237.683</td>\n",
       "      <td>0.372</td>\n",
       "    </tr>\n",
       "    <tr>\n",
       "      <th>8</th>\n",
       "      <td>Office Supplies</td>\n",
       "      <td>Fasteners</td>\n",
       "      <td>949.518</td>\n",
       "      <td>3024.280</td>\n",
       "      <td>1.039</td>\n",
       "      <td>0.314</td>\n",
       "    </tr>\n",
       "    <tr>\n",
       "      <th>13</th>\n",
       "      <td>Technology</td>\n",
       "      <td>Accessories</td>\n",
       "      <td>41936.636</td>\n",
       "      <td>167380.318</td>\n",
       "      <td>14.092</td>\n",
       "      <td>0.251</td>\n",
       "    </tr>\n",
       "    <tr>\n",
       "      <th>5</th>\n",
       "      <td>Office Supplies</td>\n",
       "      <td>Art</td>\n",
       "      <td>6527.787</td>\n",
       "      <td>27118.792</td>\n",
       "      <td>2.176</td>\n",
       "      <td>0.241</td>\n",
       "    </tr>\n",
       "    <tr>\n",
       "      <th>4</th>\n",
       "      <td>Office Supplies</td>\n",
       "      <td>Appliances</td>\n",
       "      <td>18138.005</td>\n",
       "      <td>107532.161</td>\n",
       "      <td>10.490</td>\n",
       "      <td>0.169</td>\n",
       "    </tr>\n",
       "    <tr>\n",
       "      <th>6</th>\n",
       "      <td>Office Supplies</td>\n",
       "      <td>Binders</td>\n",
       "      <td>30221.763</td>\n",
       "      <td>203412.733</td>\n",
       "      <td>5.059</td>\n",
       "      <td>0.149</td>\n",
       "    </tr>\n",
       "    <tr>\n",
       "      <th>2</th>\n",
       "      <td>Furniture</td>\n",
       "      <td>Furnishings</td>\n",
       "      <td>13059.144</td>\n",
       "      <td>91705.164</td>\n",
       "      <td>3.665</td>\n",
       "      <td>0.142</td>\n",
       "    </tr>\n",
       "    <tr>\n",
       "      <th>16</th>\n",
       "      <td>Technology</td>\n",
       "      <td>Phones</td>\n",
       "      <td>44515.731</td>\n",
       "      <td>330007.054</td>\n",
       "      <td>13.535</td>\n",
       "      <td>0.135</td>\n",
       "    </tr>\n",
       "    <tr>\n",
       "      <th>11</th>\n",
       "      <td>Office Supplies</td>\n",
       "      <td>Storage</td>\n",
       "      <td>21278.826</td>\n",
       "      <td>223843.608</td>\n",
       "      <td>6.738</td>\n",
       "      <td>0.095</td>\n",
       "    </tr>\n",
       "    <tr>\n",
       "      <th>1</th>\n",
       "      <td>Furniture</td>\n",
       "      <td>Chairs</td>\n",
       "      <td>26590.166</td>\n",
       "      <td>328449.103</td>\n",
       "      <td>11.286</td>\n",
       "      <td>0.081</td>\n",
       "    </tr>\n",
       "    <tr>\n",
       "      <th>15</th>\n",
       "      <td>Technology</td>\n",
       "      <td>Machines</td>\n",
       "      <td>3384.757</td>\n",
       "      <td>189238.631</td>\n",
       "      <td>7.693</td>\n",
       "      <td>0.018</td>\n",
       "    </tr>\n",
       "    <tr>\n",
       "      <th>12</th>\n",
       "      <td>Office Supplies</td>\n",
       "      <td>Supplies</td>\n",
       "      <td>-1189.100</td>\n",
       "      <td>46673.538</td>\n",
       "      <td>-1.838</td>\n",
       "      <td>-0.025</td>\n",
       "    </tr>\n",
       "    <tr>\n",
       "      <th>0</th>\n",
       "      <td>Furniture</td>\n",
       "      <td>Bookcases</td>\n",
       "      <td>-3472.556</td>\n",
       "      <td>114879.996</td>\n",
       "      <td>-4.001</td>\n",
       "      <td>-0.030</td>\n",
       "    </tr>\n",
       "    <tr>\n",
       "      <th>3</th>\n",
       "      <td>Furniture</td>\n",
       "      <td>Tables</td>\n",
       "      <td>-17725.481</td>\n",
       "      <td>206965.532</td>\n",
       "      <td>-14.283</td>\n",
       "      <td>-0.086</td>\n",
       "    </tr>\n",
       "  </tbody>\n",
       "</table>\n",
       "</div>"
      ],
      "text/plain": [
       "           category sub_category  total_profit  total_revenue  profit_average  \\\n",
       "9   Office Supplies       Labels      5546.254      12486.312           3.962   \n",
       "10  Office Supplies        Paper     34053.569      78479.206           6.577   \n",
       "7   Office Supplies    Envelopes      6964.177      16476.402           7.687   \n",
       "14       Technology      Copiers     55617.825     149528.030         237.683   \n",
       "8   Office Supplies    Fasteners       949.518       3024.280           1.039   \n",
       "13       Technology  Accessories     41936.636     167380.318          14.092   \n",
       "5   Office Supplies          Art      6527.787      27118.792           2.176   \n",
       "4   Office Supplies   Appliances     18138.005     107532.161          10.490   \n",
       "6   Office Supplies      Binders     30221.763     203412.733           5.059   \n",
       "2         Furniture  Furnishings     13059.144      91705.164           3.665   \n",
       "16       Technology       Phones     44515.731     330007.054          13.535   \n",
       "11  Office Supplies      Storage     21278.826     223843.608           6.738   \n",
       "1         Furniture       Chairs     26590.166     328449.103          11.286   \n",
       "15       Technology     Machines      3384.757     189238.631           7.693   \n",
       "12  Office Supplies     Supplies     -1189.100      46673.538          -1.838   \n",
       "0         Furniture    Bookcases     -3472.556     114879.996          -4.001   \n",
       "3         Furniture       Tables    -17725.481     206965.532         -14.283   \n",
       "\n",
       "    profit_percentage  \n",
       "9               0.444  \n",
       "10              0.434  \n",
       "7               0.423  \n",
       "14              0.372  \n",
       "8               0.314  \n",
       "13              0.251  \n",
       "5               0.241  \n",
       "4               0.169  \n",
       "6               0.149  \n",
       "2               0.142  \n",
       "16              0.135  \n",
       "11              0.095  \n",
       "1               0.081  \n",
       "15              0.018  \n",
       "12             -0.025  \n",
       "0              -0.030  \n",
       "3              -0.086  "
      ]
     },
     "execution_count": 132,
     "metadata": {},
     "output_type": "execute_result"
    }
   ],
   "source": [
    "# Dataframe yang urutannya dari profit_percentage paling tinggi\n",
    "profitm = profitm.sort_values(by=\"profit_percentage\", ascending=False) # Urutan dari profit percentage\n",
    "profitm"
   ]
  },
  {
   "attachments": {},
   "cell_type": "markdown",
   "metadata": {},
   "source": [
    "Membuat dataframe yang urutan isinya dari nilai rata-rata profit dari 1 barang terjual dari yang tertinggi ke yang terbesar."
   ]
  },
  {
   "cell_type": "code",
   "execution_count": 133,
   "metadata": {},
   "outputs": [
    {
     "data": {
      "text/html": [
       "<div>\n",
       "<style scoped>\n",
       "    .dataframe tbody tr th:only-of-type {\n",
       "        vertical-align: middle;\n",
       "    }\n",
       "\n",
       "    .dataframe tbody tr th {\n",
       "        vertical-align: top;\n",
       "    }\n",
       "\n",
       "    .dataframe thead th {\n",
       "        text-align: right;\n",
       "    }\n",
       "</style>\n",
       "<table border=\"1\" class=\"dataframe\">\n",
       "  <thead>\n",
       "    <tr style=\"text-align: right;\">\n",
       "      <th></th>\n",
       "      <th>category</th>\n",
       "      <th>sub_category</th>\n",
       "      <th>total_profit</th>\n",
       "      <th>total_revenue</th>\n",
       "      <th>profit_average</th>\n",
       "      <th>profit_percentage</th>\n",
       "    </tr>\n",
       "  </thead>\n",
       "  <tbody>\n",
       "    <tr>\n",
       "      <th>14</th>\n",
       "      <td>Technology</td>\n",
       "      <td>Copiers</td>\n",
       "      <td>55617.825</td>\n",
       "      <td>149528.030</td>\n",
       "      <td>237.683</td>\n",
       "      <td>0.372</td>\n",
       "    </tr>\n",
       "    <tr>\n",
       "      <th>13</th>\n",
       "      <td>Technology</td>\n",
       "      <td>Accessories</td>\n",
       "      <td>41936.636</td>\n",
       "      <td>167380.318</td>\n",
       "      <td>14.092</td>\n",
       "      <td>0.251</td>\n",
       "    </tr>\n",
       "    <tr>\n",
       "      <th>16</th>\n",
       "      <td>Technology</td>\n",
       "      <td>Phones</td>\n",
       "      <td>44515.731</td>\n",
       "      <td>330007.054</td>\n",
       "      <td>13.535</td>\n",
       "      <td>0.135</td>\n",
       "    </tr>\n",
       "    <tr>\n",
       "      <th>1</th>\n",
       "      <td>Furniture</td>\n",
       "      <td>Chairs</td>\n",
       "      <td>26590.166</td>\n",
       "      <td>328449.103</td>\n",
       "      <td>11.286</td>\n",
       "      <td>0.081</td>\n",
       "    </tr>\n",
       "    <tr>\n",
       "      <th>4</th>\n",
       "      <td>Office Supplies</td>\n",
       "      <td>Appliances</td>\n",
       "      <td>18138.005</td>\n",
       "      <td>107532.161</td>\n",
       "      <td>10.490</td>\n",
       "      <td>0.169</td>\n",
       "    </tr>\n",
       "    <tr>\n",
       "      <th>15</th>\n",
       "      <td>Technology</td>\n",
       "      <td>Machines</td>\n",
       "      <td>3384.757</td>\n",
       "      <td>189238.631</td>\n",
       "      <td>7.693</td>\n",
       "      <td>0.018</td>\n",
       "    </tr>\n",
       "    <tr>\n",
       "      <th>7</th>\n",
       "      <td>Office Supplies</td>\n",
       "      <td>Envelopes</td>\n",
       "      <td>6964.177</td>\n",
       "      <td>16476.402</td>\n",
       "      <td>7.687</td>\n",
       "      <td>0.423</td>\n",
       "    </tr>\n",
       "    <tr>\n",
       "      <th>11</th>\n",
       "      <td>Office Supplies</td>\n",
       "      <td>Storage</td>\n",
       "      <td>21278.826</td>\n",
       "      <td>223843.608</td>\n",
       "      <td>6.738</td>\n",
       "      <td>0.095</td>\n",
       "    </tr>\n",
       "    <tr>\n",
       "      <th>10</th>\n",
       "      <td>Office Supplies</td>\n",
       "      <td>Paper</td>\n",
       "      <td>34053.569</td>\n",
       "      <td>78479.206</td>\n",
       "      <td>6.577</td>\n",
       "      <td>0.434</td>\n",
       "    </tr>\n",
       "    <tr>\n",
       "      <th>6</th>\n",
       "      <td>Office Supplies</td>\n",
       "      <td>Binders</td>\n",
       "      <td>30221.763</td>\n",
       "      <td>203412.733</td>\n",
       "      <td>5.059</td>\n",
       "      <td>0.149</td>\n",
       "    </tr>\n",
       "    <tr>\n",
       "      <th>9</th>\n",
       "      <td>Office Supplies</td>\n",
       "      <td>Labels</td>\n",
       "      <td>5546.254</td>\n",
       "      <td>12486.312</td>\n",
       "      <td>3.962</td>\n",
       "      <td>0.444</td>\n",
       "    </tr>\n",
       "    <tr>\n",
       "      <th>2</th>\n",
       "      <td>Furniture</td>\n",
       "      <td>Furnishings</td>\n",
       "      <td>13059.144</td>\n",
       "      <td>91705.164</td>\n",
       "      <td>3.665</td>\n",
       "      <td>0.142</td>\n",
       "    </tr>\n",
       "    <tr>\n",
       "      <th>5</th>\n",
       "      <td>Office Supplies</td>\n",
       "      <td>Art</td>\n",
       "      <td>6527.787</td>\n",
       "      <td>27118.792</td>\n",
       "      <td>2.176</td>\n",
       "      <td>0.241</td>\n",
       "    </tr>\n",
       "    <tr>\n",
       "      <th>8</th>\n",
       "      <td>Office Supplies</td>\n",
       "      <td>Fasteners</td>\n",
       "      <td>949.518</td>\n",
       "      <td>3024.280</td>\n",
       "      <td>1.039</td>\n",
       "      <td>0.314</td>\n",
       "    </tr>\n",
       "    <tr>\n",
       "      <th>12</th>\n",
       "      <td>Office Supplies</td>\n",
       "      <td>Supplies</td>\n",
       "      <td>-1189.100</td>\n",
       "      <td>46673.538</td>\n",
       "      <td>-1.838</td>\n",
       "      <td>-0.025</td>\n",
       "    </tr>\n",
       "    <tr>\n",
       "      <th>0</th>\n",
       "      <td>Furniture</td>\n",
       "      <td>Bookcases</td>\n",
       "      <td>-3472.556</td>\n",
       "      <td>114879.996</td>\n",
       "      <td>-4.001</td>\n",
       "      <td>-0.030</td>\n",
       "    </tr>\n",
       "    <tr>\n",
       "      <th>3</th>\n",
       "      <td>Furniture</td>\n",
       "      <td>Tables</td>\n",
       "      <td>-17725.481</td>\n",
       "      <td>206965.532</td>\n",
       "      <td>-14.283</td>\n",
       "      <td>-0.086</td>\n",
       "    </tr>\n",
       "  </tbody>\n",
       "</table>\n",
       "</div>"
      ],
      "text/plain": [
       "           category sub_category  total_profit  total_revenue  profit_average  \\\n",
       "14       Technology      Copiers     55617.825     149528.030         237.683   \n",
       "13       Technology  Accessories     41936.636     167380.318          14.092   \n",
       "16       Technology       Phones     44515.731     330007.054          13.535   \n",
       "1         Furniture       Chairs     26590.166     328449.103          11.286   \n",
       "4   Office Supplies   Appliances     18138.005     107532.161          10.490   \n",
       "15       Technology     Machines      3384.757     189238.631           7.693   \n",
       "7   Office Supplies    Envelopes      6964.177      16476.402           7.687   \n",
       "11  Office Supplies      Storage     21278.826     223843.608           6.738   \n",
       "10  Office Supplies        Paper     34053.569      78479.206           6.577   \n",
       "6   Office Supplies      Binders     30221.763     203412.733           5.059   \n",
       "9   Office Supplies       Labels      5546.254      12486.312           3.962   \n",
       "2         Furniture  Furnishings     13059.144      91705.164           3.665   \n",
       "5   Office Supplies          Art      6527.787      27118.792           2.176   \n",
       "8   Office Supplies    Fasteners       949.518       3024.280           1.039   \n",
       "12  Office Supplies     Supplies     -1189.100      46673.538          -1.838   \n",
       "0         Furniture    Bookcases     -3472.556     114879.996          -4.001   \n",
       "3         Furniture       Tables    -17725.481     206965.532         -14.283   \n",
       "\n",
       "    profit_percentage  \n",
       "14              0.372  \n",
       "13              0.251  \n",
       "16              0.135  \n",
       "1               0.081  \n",
       "4               0.169  \n",
       "15              0.018  \n",
       "7               0.423  \n",
       "11              0.095  \n",
       "10              0.434  \n",
       "6               0.149  \n",
       "9               0.444  \n",
       "2               0.142  \n",
       "5               0.241  \n",
       "8               0.314  \n",
       "12             -0.025  \n",
       "0              -0.030  \n",
       "3              -0.086  "
      ]
     },
     "execution_count": 133,
     "metadata": {},
     "output_type": "execute_result"
    }
   ],
   "source": [
    "# Dataframe yang urutannya dari jumlah rata-rata profit dari barang terjual yang paling tinggi\n",
    "profitmp = profitm.sort_values(by=\"profit_average\", ascending=False) # Urutan dari profit_average\n",
    "profitmp"
   ]
  },
  {
   "cell_type": "code",
   "execution_count": 182,
   "metadata": {},
   "outputs": [
    {
     "data": {
      "image/png": "[encoded data removed]",
      "text/plain": [
       "<Figure size 640x480 with 1 Axes>"
      ]
     },
     "metadata": {},
     "output_type": "display_data"
    }
   ],
   "source": [
    "# Bentuk data dari profit percentage\n",
    "plt.barh(profitm[\"sub_category\"][::-1],profitm[\"profit_percentage\"][::-1])\n",
    "plt.title(\"Profit Percentage\")\n",
    "\n",
    "for index, value in enumerate(profitm[\"profit_percentage\"][::-1]):\n",
    "    plt.text(value, index,\n",
    "             str(round(value,3)))"
   ]
  },
  {
   "cell_type": "code",
   "execution_count": 184,
   "metadata": {},
   "outputs": [
    {
     "data": {
      "image/png": "[encoded data removed]",
      "text/plain": [
       "<Figure size 640x480 with 1 Axes>"
      ]
     },
     "metadata": {},
     "output_type": "display_data"
    }
   ],
   "source": [
    "# Bentuk data dari profit per barang\n",
    "plt.barh(profitmp[\"sub_category\"][::-1],profitmp[\"profit_average\"][::-1])\n",
    "plt.title(\"Profit Per Barang\")\n",
    "\n",
    "for index, value in enumerate(profitmp[\"profit_average\"][::-1]):\n",
    "    plt.text(value, index,\n",
    "             str(round(value,3)))"
   ]
  },
  {
   "cell_type": "code",
   "execution_count": 187,
   "metadata": {},
   "outputs": [
    {
     "data": {
      "text/plain": [
       "Text(0.5, 1.0, 'Profit Percentage')"
      ]
     },
     "execution_count": 187,
     "metadata": {},
     "output_type": "execute_result"
    },
    {
     "data": {
      "image/png": "[encoded data removed]",
      "text/plain": [
       "<Figure size 2100x500 with 2 Axes>"
      ]
     },
     "metadata": {},
     "output_type": "display_data"
    }
   ],
   "source": [
    "# Gabungan dari 2 plot\n",
    "fig, ax = plt.subplots(ncols=2,figsize=(21,5))\n",
    "\n",
    "ax[1].barh(profitmp[\"sub_category\"][::-1],profitmp[\"profit_average\"][::-1])\n",
    "ax[1].set_title(\"Profit Per Barang\")\n",
    "ax[0].barh(profitm[\"sub_category\"][::-1],profitm[\"profit_percentage\"][::-1])\n",
    "ax[0].set_title(\"Profit Percentage\")"
   ]
  },
  {
   "attachments": {},
   "cell_type": "markdown",
   "metadata": {},
   "source": [
    "Insight"
   ]
  },
  {
   "attachments": {},
   "cell_type": "markdown",
   "metadata": {},
   "source": [
    "1. Berdasarkan Sub-Categorynya barang yang memiliki nilai jual paling tinggi ialah copiers, Dapat dilihat dari plot Profit Per Barang. Dari plot terlihat bahwa untuk setiap penjualan copiers profit yang didapatkan adalah 237 Dollar. Sedangkan Accessories yang menduduki peringkat ke-2 pada urutan profit per barang. Hanya memiliki rata-rata profit sebesar 14 Dollar untuk setiap penjualan. Yang berarti hanya 6% dari jumlah profit yang didapatkan dari penjualan copiers."
   ]
  },
  {
   "attachments": {},
   "cell_type": "markdown",
   "metadata": {},
   "source": [
    "2. Berdasarkan Sub-Categorynya barang yang memiliki profit margin tertinggi ialah Labels dengan profit margin sebesar 44%, diikuti oleh Papers dan Envelope dengan profit margin sebesar 43% dan 42%."
   ]
  },
  {
   "attachments": {},
   "cell_type": "markdown",
   "metadata": {},
   "source": [
    "3. Ada, yaitu Tables dengan kerugian sebesar 14 Dollar untuk setiap penjualannya, Bookcases dengan nilai kerugian 4 dollar dan Supplies dengan kerugian 1.8 dollar untuk setiap penjualannya."
   ]
  },
  {
   "attachments": {},
   "cell_type": "markdown",
   "metadata": {},
   "source": [
    "## Segment"
   ]
  },
  {
   "attachments": {},
   "cell_type": "markdown",
   "metadata": {},
   "source": [
    "A. Mencari nilai berdasarkan segment"
   ]
  },
  {
   "attachments": {},
   "cell_type": "markdown",
   "metadata": {},
   "source": [
    "Mencari nilai revenue untuk tiap segment konsumen"
   ]
  },
  {
   "cell_type": "code",
   "execution_count": 254,
   "metadata": {},
   "outputs": [],
   "source": [
    "segmentr = df.groupby(\"segment\")[\"sales\"].sum().reset_index(name=\"total_revenues\") # Untuk mencari Segment dan total revenue"
   ]
  },
  {
   "attachments": {},
   "cell_type": "markdown",
   "metadata": {},
   "source": [
    "Mencari total jumlah profit untuk tiap segment"
   ]
  },
  {
   "cell_type": "code",
   "execution_count": 255,
   "metadata": {},
   "outputs": [],
   "source": [
    "segmentp = df.groupby(\"segment\")[\"profit\"].sum().reset_index(name=\"total_profit\") # Untuk mencari Segment dan total profit"
   ]
  },
  {
   "attachments": {},
   "cell_type": "markdown",
   "metadata": {},
   "source": [
    "Mencari Quantity"
   ]
  },
  {
   "cell_type": "code",
   "execution_count": 256,
   "metadata": {},
   "outputs": [],
   "source": [
    "segmentq = df.groupby(\"segment\")[\"quantity\"].sum().reset_index(name=\"total_quantity\") # Untuk mencari Segment dan total barang terjual"
   ]
  },
  {
   "attachments": {},
   "cell_type": "markdown",
   "metadata": {},
   "source": [
    "mencari profit margin untuk setiap segment"
   ]
  },
  {
   "cell_type": "code",
   "execution_count": 257,
   "metadata": {},
   "outputs": [
    {
     "data": {
      "text/html": [
       "<div>\n",
       "<style scoped>\n",
       "    .dataframe tbody tr th:only-of-type {\n",
       "        vertical-align: middle;\n",
       "    }\n",
       "\n",
       "    .dataframe tbody tr th {\n",
       "        vertical-align: top;\n",
       "    }\n",
       "\n",
       "    .dataframe thead th {\n",
       "        text-align: right;\n",
       "    }\n",
       "</style>\n",
       "<table border=\"1\" class=\"dataframe\">\n",
       "  <thead>\n",
       "    <tr style=\"text-align: right;\">\n",
       "      <th></th>\n",
       "      <th>segment</th>\n",
       "      <th>profit_percentage</th>\n",
       "    </tr>\n",
       "  </thead>\n",
       "  <tbody>\n",
       "    <tr>\n",
       "      <th>0</th>\n",
       "      <td>Consumer</td>\n",
       "      <td>0.115</td>\n",
       "    </tr>\n",
       "    <tr>\n",
       "      <th>1</th>\n",
       "      <td>Corporate</td>\n",
       "      <td>0.130</td>\n",
       "    </tr>\n",
       "    <tr>\n",
       "      <th>2</th>\n",
       "      <td>Home Office</td>\n",
       "      <td>0.140</td>\n",
       "    </tr>\n",
       "  </tbody>\n",
       "</table>\n",
       "</div>"
      ],
      "text/plain": [
       "       segment  profit_percentage\n",
       "0     Consumer              0.115\n",
       "1    Corporate              0.130\n",
       "2  Home Office              0.140"
      ]
     },
     "execution_count": 257,
     "metadata": {},
     "output_type": "execute_result"
    }
   ],
   "source": [
    "segmentpm = pd.DataFrame() # Mencari nilai profit percentage suatu barang\n",
    "segmentpm[\"segment\"] = segmentp[\"segment\"]\n",
    "segmentpm[\"profit_percentage\"] = segmentp[\"total_profit\"]/segmentr[\"total_revenues\"]\n",
    "segmentpm"
   ]
  },
  {
   "attachments": {},
   "cell_type": "markdown",
   "metadata": {},
   "source": [
    "B. Mencari Revenue tiap kategori untuk setiap segment konsumen"
   ]
  },
  {
   "cell_type": "code",
   "execution_count": 258,
   "metadata": {},
   "outputs": [],
   "source": [
    "segmentrc = df.groupby([\"segment\", \"category\"])[\"sales\"].sum().reset_index(name=\"total_revenues\") # Mencari jumlah revenue berdasarkan segment dan category\n",
    "segmentrc = segmentrc.sort_values(by=[\"segment\", \"category\"])"
   ]
  },
  {
   "cell_type": "code",
   "execution_count": 259,
   "metadata": {},
   "outputs": [],
   "source": [
    "segmentpc = df.groupby([\"segment\", \"category\"])[\"profit\"].sum().reset_index(name=\"total_profit\")  # Mencari jumlah profit berdasarkan segment dan category\n",
    "segmentpc = segmentpc.sort_values(by=[\"segment\", \"category\"])"
   ]
  },
  {
   "cell_type": "code",
   "execution_count": 260,
   "metadata": {},
   "outputs": [],
   "source": [
    "segmentqc = df.groupby([\"segment\", \"category\"])[\"quantity\"].sum().reset_index(name=\"total_quantity\") # Mencari jumlah barang terjual berdasarkan segment dan category\n",
    "segmentqc = segmentqc.sort_values(by=[\"segment\", \"category\"])"
   ]
  },
  {
   "cell_type": "code",
   "execution_count": 261,
   "metadata": {},
   "outputs": [
    {
     "data": {
      "text/html": [
       "<div>\n",
       "<style scoped>\n",
       "    .dataframe tbody tr th:only-of-type {\n",
       "        vertical-align: middle;\n",
       "    }\n",
       "\n",
       "    .dataframe tbody tr th {\n",
       "        vertical-align: top;\n",
       "    }\n",
       "\n",
       "    .dataframe thead th {\n",
       "        text-align: right;\n",
       "    }\n",
       "</style>\n",
       "<table border=\"1\" class=\"dataframe\">\n",
       "  <thead>\n",
       "    <tr style=\"text-align: right;\">\n",
       "      <th></th>\n",
       "      <th>segment</th>\n",
       "      <th>category</th>\n",
       "      <th>total_revenues</th>\n",
       "      <th>total_quantity</th>\n",
       "      <th>total_profit</th>\n",
       "      <th>profit_percentage</th>\n",
       "    </tr>\n",
       "  </thead>\n",
       "  <tbody>\n",
       "    <tr>\n",
       "      <th>0</th>\n",
       "      <td>Consumer</td>\n",
       "      <td>Furniture</td>\n",
       "      <td>391049.312</td>\n",
       "      <td>4166</td>\n",
       "      <td>6991.079</td>\n",
       "      <td>0.018</td>\n",
       "    </tr>\n",
       "    <tr>\n",
       "      <th>1</th>\n",
       "      <td>Consumer</td>\n",
       "      <td>Office Supplies</td>\n",
       "      <td>363952.136</td>\n",
       "      <td>11758</td>\n",
       "      <td>56330.321</td>\n",
       "      <td>0.155</td>\n",
       "    </tr>\n",
       "    <tr>\n",
       "      <th>2</th>\n",
       "      <td>Consumer</td>\n",
       "      <td>Technology</td>\n",
       "      <td>406399.897</td>\n",
       "      <td>3597</td>\n",
       "      <td>70797.810</td>\n",
       "      <td>0.174</td>\n",
       "    </tr>\n",
       "    <tr>\n",
       "      <th>3</th>\n",
       "      <td>Corporate</td>\n",
       "      <td>Furniture</td>\n",
       "      <td>229019.786</td>\n",
       "      <td>2495</td>\n",
       "      <td>7584.816</td>\n",
       "      <td>0.033</td>\n",
       "    </tr>\n",
       "    <tr>\n",
       "      <th>4</th>\n",
       "      <td>Corporate</td>\n",
       "      <td>Office Supplies</td>\n",
       "      <td>230676.462</td>\n",
       "      <td>7018</td>\n",
       "      <td>40227.320</td>\n",
       "      <td>0.174</td>\n",
       "    </tr>\n",
       "    <tr>\n",
       "      <th>5</th>\n",
       "      <td>Corporate</td>\n",
       "      <td>Technology</td>\n",
       "      <td>246450.119</td>\n",
       "      <td>2095</td>\n",
       "      <td>44166.998</td>\n",
       "      <td>0.179</td>\n",
       "    </tr>\n",
       "    <tr>\n",
       "      <th>6</th>\n",
       "      <td>Home Office</td>\n",
       "      <td>Furniture</td>\n",
       "      <td>121930.698</td>\n",
       "      <td>1367</td>\n",
       "      <td>3875.378</td>\n",
       "      <td>0.032</td>\n",
       "    </tr>\n",
       "    <tr>\n",
       "      <th>7</th>\n",
       "      <td>Home Office</td>\n",
       "      <td>Office Supplies</td>\n",
       "      <td>124418.434</td>\n",
       "      <td>4130</td>\n",
       "      <td>25933.160</td>\n",
       "      <td>0.208</td>\n",
       "    </tr>\n",
       "    <tr>\n",
       "      <th>8</th>\n",
       "      <td>Home Office</td>\n",
       "      <td>Technology</td>\n",
       "      <td>183304.017</td>\n",
       "      <td>1247</td>\n",
       "      <td>30490.140</td>\n",
       "      <td>0.166</td>\n",
       "    </tr>\n",
       "  </tbody>\n",
       "</table>\n",
       "</div>"
      ],
      "text/plain": [
       "       segment         category  total_revenues  total_quantity  total_profit  \\\n",
       "0     Consumer        Furniture      391049.312            4166      6991.079   \n",
       "1     Consumer  Office Supplies      363952.136           11758     56330.321   \n",
       "2     Consumer       Technology      406399.897            3597     70797.810   \n",
       "3    Corporate        Furniture      229019.786            2495      7584.816   \n",
       "4    Corporate  Office Supplies      230676.462            7018     40227.320   \n",
       "5    Corporate       Technology      246450.119            2095     44166.998   \n",
       "6  Home Office        Furniture      121930.698            1367      3875.378   \n",
       "7  Home Office  Office Supplies      124418.434            4130     25933.160   \n",
       "8  Home Office       Technology      183304.017            1247     30490.140   \n",
       "\n",
       "   profit_percentage  \n",
       "0              0.018  \n",
       "1              0.155  \n",
       "2              0.174  \n",
       "3              0.033  \n",
       "4              0.174  \n",
       "5              0.179  \n",
       "6              0.032  \n",
       "7              0.208  \n",
       "8              0.166  "
      ]
     },
     "execution_count": 261,
     "metadata": {},
     "output_type": "execute_result"
    }
   ],
   "source": [
    "# Gabungan segmentrc, segmentpc dan segmentqc\n",
    "segmentpmc = df.groupby([\"segment\", \"category\"])[\"sales\"].sum().reset_index(name=\"total_revenues\")\n",
    "segmentpmc[\"total_quantity\"] = segmentqc[\"total_quantity\"]\n",
    "segmentpmc[\"total_profit\"] = segmentpc[\"total_profit\"]\n",
    "segmentpmc[\"profit_percentage\"] = segmentpmc[\"total_profit\"]/segmentpmc[\"total_revenues\"]\n",
    "segmentpmc"
   ]
  },
  {
   "cell_type": "code",
   "execution_count": 262,
   "metadata": {},
   "outputs": [],
   "source": [
    "# dari gabungan segmentrc, segmentpc dan segmentqc di query agar segmentnya sama\n",
    "consumer = segmentpmc[segmentpmc[\"segment\"]==\"Consumer\"]\n",
    "corporate = segmentpmc[segmentpmc[\"segment\"]==\"Corporate\"]\n",
    "office = segmentpmc[segmentpmc[\"segment\"]==\"Home Office\"]"
   ]
  },
  {
   "cell_type": "markdown",
   "metadata": {},
   "source": []
  },
  {
   "cell_type": "code",
   "execution_count": 195,
   "metadata": {},
   "outputs": [
    {
     "data": {
      "text/plain": [
       "Text(0.5, 1.0, 'Profit Percentage')"
      ]
     },
     "execution_count": 195,
     "metadata": {},
     "output_type": "execute_result"
    },
    {
     "data": {
      "image/png": "[encoded data removed]",
      "text/plain": [
       "<Figure size 2100x500 with 3 Axes>"
      ]
     },
     "metadata": {},
     "output_type": "display_data"
    }
   ],
   "source": [
    "# Bar Total Revenues, Total profit dan Profit Percentage\n",
    "fig, ax = plt.subplots(ncols=3,figsize=(21,5))\n",
    "\n",
    "ax[0].bar(segmentr[\"segment\"],segmentr[\"total_revenues\"])\n",
    "ax[0].set_title(\"Total Revenues\")\n",
    "ax[1].bar(segmentp[\"segment\"],segmentp[\"total_profit\"])\n",
    "ax[1].set_title(\"Total Profit\")\n",
    "ax[2].bar(segmentpm[\"segment\"],segmentpm[\"profit_percentage\"])\n",
    "ax[2].set_title(\"Profit Percentage\")"
   ]
  },
  {
   "cell_type": "code",
   "execution_count": 209,
   "metadata": {},
   "outputs": [
    {
     "data": {
      "text/plain": [
       "Text(0.5, 1.0, 'Home Office')"
      ]
     },
     "execution_count": 209,
     "metadata": {},
     "output_type": "execute_result"
    },
    {
     "data": {
      "image/png": "[encoded data removed]",
      "text/plain": [
       "<Figure size 2100x500 with 3 Axes>"
      ]
     },
     "metadata": {},
     "output_type": "display_data"
    }
   ],
   "source": [
    "# Total quantity barang terjual\n",
    "fig, ax = plt.subplots(ncols=3,figsize=(21,5))\n",
    "\n",
    "ax[0].bar(consumer[\"category\"],consumer[\"total_quantity\"])\n",
    "ax[0].set_title(\"Consumer\")\n",
    "ax[1].bar(corporate[\"category\"],corporate[\"total_quantity\"])\n",
    "ax[1].set_title(\"Corporate\")\n",
    "ax[2].bar(office[\"category\"],office[\"total_quantity\"])\n",
    "ax[2].set_title(\"Home Office\")"
   ]
  },
  {
   "cell_type": "code",
   "execution_count": 210,
   "metadata": {},
   "outputs": [
    {
     "data": {
      "text/plain": [
       "Text(0.5, 1.0, 'Home Office')"
      ]
     },
     "execution_count": 210,
     "metadata": {},
     "output_type": "execute_result"
    },
    {
     "data": {
      "image/png": "[encoded data removed]",
      "text/plain": [
       "<Figure size 2100x500 with 3 Axes>"
      ]
     },
     "metadata": {},
     "output_type": "display_data"
    }
   ],
   "source": [
    "# Total profit berdasarkan segment\n",
    "fig, ax = plt.subplots(ncols=3,figsize=(21,5))\n",
    "\n",
    "ax[0].bar(consumer[\"category\"],consumer[\"total_profit\"])\n",
    "ax[0].set_title(\"Consumer\")\n",
    "ax[1].bar(corporate[\"category\"],corporate[\"total_profit\"])\n",
    "ax[1].set_title(\"Corporate\")\n",
    "ax[2].bar(office[\"category\"],office[\"total_profit\"])\n",
    "ax[2].set_title(\"Home Office\")"
   ]
  },
  {
   "attachments": {},
   "cell_type": "markdown",
   "metadata": {},
   "source": [
    "Insight"
   ]
  },
  {
   "attachments": {},
   "cell_type": "markdown",
   "metadata": {},
   "source": [
    "1. Segment yang memiliki total profit terbanyak adalah segment Consumer. Dengan total profit sebanyak 134119.20 dollar."
   ]
  },
  {
   "attachments": {},
   "cell_type": "markdown",
   "metadata": {},
   "source": [
    "2. Segment konsumen memiliki prefensi kategori barang yang sama, yaitu barang dengan kategori Office Supplies. Dengan jumlah barang terjual sebanyak 22906 barang."
   ]
  },
  {
   "attachments": {},
   "cell_type": "markdown",
   "metadata": {},
   "source": [
    "3. Dari 3 segment yang ada, semuanya memiliki kesamaan kategori barang yang memiliki jumlah profit tertinggi. Yaitu barang dengan kategori Technology dengan jumlah profit sebanyak 145455 dollar."
   ]
  },
  {
   "attachments": {},
   "cell_type": "markdown",
   "metadata": {},
   "source": [
    "## State"
   ]
  },
  {
   "attachments": {},
   "cell_type": "markdown",
   "metadata": {},
   "source": [
    "Revenues"
   ]
  },
  {
   "cell_type": "code",
   "execution_count": 263,
   "metadata": {},
   "outputs": [
    {
     "data": {
      "text/html": [
       "<div>\n",
       "<style scoped>\n",
       "    .dataframe tbody tr th:only-of-type {\n",
       "        vertical-align: middle;\n",
       "    }\n",
       "\n",
       "    .dataframe tbody tr th {\n",
       "        vertical-align: top;\n",
       "    }\n",
       "\n",
       "    .dataframe thead th {\n",
       "        text-align: right;\n",
       "    }\n",
       "</style>\n",
       "<table border=\"1\" class=\"dataframe\">\n",
       "  <thead>\n",
       "    <tr style=\"text-align: right;\">\n",
       "      <th></th>\n",
       "      <th>state</th>\n",
       "      <th>total_revenues</th>\n",
       "    </tr>\n",
       "  </thead>\n",
       "  <tbody>\n",
       "    <tr>\n",
       "      <th>3</th>\n",
       "      <td>California</td>\n",
       "      <td>457687.632</td>\n",
       "    </tr>\n",
       "    <tr>\n",
       "      <th>30</th>\n",
       "      <td>New York</td>\n",
       "      <td>310876.271</td>\n",
       "    </tr>\n",
       "    <tr>\n",
       "      <th>41</th>\n",
       "      <td>Texas</td>\n",
       "      <td>170188.046</td>\n",
       "    </tr>\n",
       "    <tr>\n",
       "      <th>45</th>\n",
       "      <td>Washington</td>\n",
       "      <td>138641.270</td>\n",
       "    </tr>\n",
       "    <tr>\n",
       "      <th>36</th>\n",
       "      <td>Pennsylvania</td>\n",
       "      <td>116511.914</td>\n",
       "    </tr>\n",
       "    <tr>\n",
       "      <th>8</th>\n",
       "      <td>Florida</td>\n",
       "      <td>89473.708</td>\n",
       "    </tr>\n",
       "    <tr>\n",
       "      <th>11</th>\n",
       "      <td>Illinois</td>\n",
       "      <td>80166.101</td>\n",
       "    </tr>\n",
       "    <tr>\n",
       "      <th>33</th>\n",
       "      <td>Ohio</td>\n",
       "      <td>78258.136</td>\n",
       "    </tr>\n",
       "    <tr>\n",
       "      <th>20</th>\n",
       "      <td>Michigan</td>\n",
       "      <td>76269.614</td>\n",
       "    </tr>\n",
       "    <tr>\n",
       "      <th>44</th>\n",
       "      <td>Virginia</td>\n",
       "      <td>70636.720</td>\n",
       "    </tr>\n",
       "    <tr>\n",
       "      <th>31</th>\n",
       "      <td>North Carolina</td>\n",
       "      <td>55603.164</td>\n",
       "    </tr>\n",
       "    <tr>\n",
       "      <th>12</th>\n",
       "      <td>Indiana</td>\n",
       "      <td>53555.360</td>\n",
       "    </tr>\n",
       "    <tr>\n",
       "      <th>9</th>\n",
       "      <td>Georgia</td>\n",
       "      <td>49095.840</td>\n",
       "    </tr>\n",
       "    <tr>\n",
       "      <th>15</th>\n",
       "      <td>Kentucky</td>\n",
       "      <td>36591.750</td>\n",
       "    </tr>\n",
       "    <tr>\n",
       "      <th>28</th>\n",
       "      <td>New Jersey</td>\n",
       "      <td>35764.312</td>\n",
       "    </tr>\n",
       "    <tr>\n",
       "      <th>1</th>\n",
       "      <td>Arizona</td>\n",
       "      <td>35282.001</td>\n",
       "    </tr>\n",
       "    <tr>\n",
       "      <th>47</th>\n",
       "      <td>Wisconsin</td>\n",
       "      <td>32114.610</td>\n",
       "    </tr>\n",
       "    <tr>\n",
       "      <th>4</th>\n",
       "      <td>Colorado</td>\n",
       "      <td>32108.118</td>\n",
       "    </tr>\n",
       "    <tr>\n",
       "      <th>40</th>\n",
       "      <td>Tennessee</td>\n",
       "      <td>30661.873</td>\n",
       "    </tr>\n",
       "    <tr>\n",
       "      <th>21</th>\n",
       "      <td>Minnesota</td>\n",
       "      <td>29863.150</td>\n",
       "    </tr>\n",
       "    <tr>\n",
       "      <th>19</th>\n",
       "      <td>Massachusetts</td>\n",
       "      <td>28634.434</td>\n",
       "    </tr>\n",
       "    <tr>\n",
       "      <th>6</th>\n",
       "      <td>Delaware</td>\n",
       "      <td>27451.069</td>\n",
       "    </tr>\n",
       "    <tr>\n",
       "      <th>18</th>\n",
       "      <td>Maryland</td>\n",
       "      <td>23705.523</td>\n",
       "    </tr>\n",
       "    <tr>\n",
       "      <th>37</th>\n",
       "      <td>Rhode Island</td>\n",
       "      <td>22627.956</td>\n",
       "    </tr>\n",
       "    <tr>\n",
       "      <th>23</th>\n",
       "      <td>Missouri</td>\n",
       "      <td>22205.150</td>\n",
       "    </tr>\n",
       "    <tr>\n",
       "      <th>34</th>\n",
       "      <td>Oklahoma</td>\n",
       "      <td>19683.390</td>\n",
       "    </tr>\n",
       "    <tr>\n",
       "      <th>0</th>\n",
       "      <td>Alabama</td>\n",
       "      <td>19510.640</td>\n",
       "    </tr>\n",
       "    <tr>\n",
       "      <th>35</th>\n",
       "      <td>Oregon</td>\n",
       "      <td>17431.150</td>\n",
       "    </tr>\n",
       "    <tr>\n",
       "      <th>26</th>\n",
       "      <td>Nevada</td>\n",
       "      <td>16729.102</td>\n",
       "    </tr>\n",
       "    <tr>\n",
       "      <th>5</th>\n",
       "      <td>Connecticut</td>\n",
       "      <td>13384.357</td>\n",
       "    </tr>\n",
       "    <tr>\n",
       "      <th>2</th>\n",
       "      <td>Arkansas</td>\n",
       "      <td>11678.130</td>\n",
       "    </tr>\n",
       "    <tr>\n",
       "      <th>42</th>\n",
       "      <td>Utah</td>\n",
       "      <td>11220.056</td>\n",
       "    </tr>\n",
       "    <tr>\n",
       "      <th>22</th>\n",
       "      <td>Mississippi</td>\n",
       "      <td>10771.340</td>\n",
       "    </tr>\n",
       "    <tr>\n",
       "      <th>16</th>\n",
       "      <td>Louisiana</td>\n",
       "      <td>9217.030</td>\n",
       "    </tr>\n",
       "    <tr>\n",
       "      <th>43</th>\n",
       "      <td>Vermont</td>\n",
       "      <td>8929.370</td>\n",
       "    </tr>\n",
       "    <tr>\n",
       "      <th>38</th>\n",
       "      <td>South Carolina</td>\n",
       "      <td>8481.710</td>\n",
       "    </tr>\n",
       "    <tr>\n",
       "      <th>25</th>\n",
       "      <td>Nebraska</td>\n",
       "      <td>7464.930</td>\n",
       "    </tr>\n",
       "    <tr>\n",
       "      <th>27</th>\n",
       "      <td>New Hampshire</td>\n",
       "      <td>7292.524</td>\n",
       "    </tr>\n",
       "    <tr>\n",
       "      <th>24</th>\n",
       "      <td>Montana</td>\n",
       "      <td>5589.352</td>\n",
       "    </tr>\n",
       "    <tr>\n",
       "      <th>29</th>\n",
       "      <td>New Mexico</td>\n",
       "      <td>4783.522</td>\n",
       "    </tr>\n",
       "    <tr>\n",
       "      <th>13</th>\n",
       "      <td>Iowa</td>\n",
       "      <td>4579.760</td>\n",
       "    </tr>\n",
       "    <tr>\n",
       "      <th>10</th>\n",
       "      <td>Idaho</td>\n",
       "      <td>4382.486</td>\n",
       "    </tr>\n",
       "    <tr>\n",
       "      <th>14</th>\n",
       "      <td>Kansas</td>\n",
       "      <td>2914.310</td>\n",
       "    </tr>\n",
       "    <tr>\n",
       "      <th>7</th>\n",
       "      <td>District of Columbia</td>\n",
       "      <td>2865.020</td>\n",
       "    </tr>\n",
       "    <tr>\n",
       "      <th>48</th>\n",
       "      <td>Wyoming</td>\n",
       "      <td>1603.136</td>\n",
       "    </tr>\n",
       "    <tr>\n",
       "      <th>39</th>\n",
       "      <td>South Dakota</td>\n",
       "      <td>1315.560</td>\n",
       "    </tr>\n",
       "    <tr>\n",
       "      <th>17</th>\n",
       "      <td>Maine</td>\n",
       "      <td>1270.530</td>\n",
       "    </tr>\n",
       "    <tr>\n",
       "      <th>46</th>\n",
       "      <td>West Virginia</td>\n",
       "      <td>1209.824</td>\n",
       "    </tr>\n",
       "    <tr>\n",
       "      <th>32</th>\n",
       "      <td>North Dakota</td>\n",
       "      <td>919.910</td>\n",
       "    </tr>\n",
       "  </tbody>\n",
       "</table>\n",
       "</div>"
      ],
      "text/plain": [
       "                   state  total_revenues\n",
       "3             California      457687.632\n",
       "30              New York      310876.271\n",
       "41                 Texas      170188.046\n",
       "45            Washington      138641.270\n",
       "36          Pennsylvania      116511.914\n",
       "8                Florida       89473.708\n",
       "11              Illinois       80166.101\n",
       "33                  Ohio       78258.136\n",
       "20              Michigan       76269.614\n",
       "44              Virginia       70636.720\n",
       "31        North Carolina       55603.164\n",
       "12               Indiana       53555.360\n",
       "9                Georgia       49095.840\n",
       "15              Kentucky       36591.750\n",
       "28            New Jersey       35764.312\n",
       "1                Arizona       35282.001\n",
       "47             Wisconsin       32114.610\n",
       "4               Colorado       32108.118\n",
       "40             Tennessee       30661.873\n",
       "21             Minnesota       29863.150\n",
       "19         Massachusetts       28634.434\n",
       "6               Delaware       27451.069\n",
       "18              Maryland       23705.523\n",
       "37          Rhode Island       22627.956\n",
       "23              Missouri       22205.150\n",
       "34              Oklahoma       19683.390\n",
       "0                Alabama       19510.640\n",
       "35                Oregon       17431.150\n",
       "26                Nevada       16729.102\n",
       "5            Connecticut       13384.357\n",
       "2               Arkansas       11678.130\n",
       "42                  Utah       11220.056\n",
       "22           Mississippi       10771.340\n",
       "16             Louisiana        9217.030\n",
       "43               Vermont        8929.370\n",
       "38        South Carolina        8481.710\n",
       "25              Nebraska        7464.930\n",
       "27         New Hampshire        7292.524\n",
       "24               Montana        5589.352\n",
       "29            New Mexico        4783.522\n",
       "13                  Iowa        4579.760\n",
       "10                 Idaho        4382.486\n",
       "14                Kansas        2914.310\n",
       "7   District of Columbia        2865.020\n",
       "48               Wyoming        1603.136\n",
       "39          South Dakota        1315.560\n",
       "17                 Maine        1270.530\n",
       "46         West Virginia        1209.824\n",
       "32          North Dakota         919.910"
      ]
     },
     "execution_count": 263,
     "metadata": {},
     "output_type": "execute_result"
    }
   ],
   "source": [
    "# Mencari nilai revenue diurutkan dari revenue tertinggi\n",
    "stater = df.groupby(\"state\")[\"sales\"].sum().reset_index(name=\"total_revenues\")\n",
    "stater = stater.sort_values(by=\"total_revenues\", ascending=False)\n",
    "stater"
   ]
  },
  {
   "attachments": {},
   "cell_type": "markdown",
   "metadata": {},
   "source": [
    "Top 5 revenue"
   ]
  },
  {
   "cell_type": "code",
   "execution_count": 147,
   "metadata": {},
   "outputs": [
    {
     "data": {
      "text/html": [
       "<div>\n",
       "<style scoped>\n",
       "    .dataframe tbody tr th:only-of-type {\n",
       "        vertical-align: middle;\n",
       "    }\n",
       "\n",
       "    .dataframe tbody tr th {\n",
       "        vertical-align: top;\n",
       "    }\n",
       "\n",
       "    .dataframe thead th {\n",
       "        text-align: right;\n",
       "    }\n",
       "</style>\n",
       "<table border=\"1\" class=\"dataframe\">\n",
       "  <thead>\n",
       "    <tr style=\"text-align: right;\">\n",
       "      <th></th>\n",
       "      <th>state</th>\n",
       "      <th>total_revenues</th>\n",
       "    </tr>\n",
       "  </thead>\n",
       "  <tbody>\n",
       "    <tr>\n",
       "      <th>3</th>\n",
       "      <td>California</td>\n",
       "      <td>457687.632</td>\n",
       "    </tr>\n",
       "    <tr>\n",
       "      <th>30</th>\n",
       "      <td>New York</td>\n",
       "      <td>310876.271</td>\n",
       "    </tr>\n",
       "    <tr>\n",
       "      <th>41</th>\n",
       "      <td>Texas</td>\n",
       "      <td>170188.046</td>\n",
       "    </tr>\n",
       "    <tr>\n",
       "      <th>45</th>\n",
       "      <td>Washington</td>\n",
       "      <td>138641.270</td>\n",
       "    </tr>\n",
       "    <tr>\n",
       "      <th>36</th>\n",
       "      <td>Pennsylvania</td>\n",
       "      <td>116511.914</td>\n",
       "    </tr>\n",
       "  </tbody>\n",
       "</table>\n",
       "</div>"
      ],
      "text/plain": [
       "           state  total_revenues\n",
       "3     California      457687.632\n",
       "30      New York      310876.271\n",
       "41         Texas      170188.046\n",
       "45    Washington      138641.270\n",
       "36  Pennsylvania      116511.914"
      ]
     },
     "execution_count": 147,
     "metadata": {},
     "output_type": "execute_result"
    }
   ],
   "source": [
    "stater[0:5]"
   ]
  },
  {
   "attachments": {},
   "cell_type": "markdown",
   "metadata": {},
   "source": [
    "Bot 5 revenue"
   ]
  },
  {
   "cell_type": "code",
   "execution_count": 148,
   "metadata": {},
   "outputs": [
    {
     "data": {
      "text/html": [
       "<div>\n",
       "<style scoped>\n",
       "    .dataframe tbody tr th:only-of-type {\n",
       "        vertical-align: middle;\n",
       "    }\n",
       "\n",
       "    .dataframe tbody tr th {\n",
       "        vertical-align: top;\n",
       "    }\n",
       "\n",
       "    .dataframe thead th {\n",
       "        text-align: right;\n",
       "    }\n",
       "</style>\n",
       "<table border=\"1\" class=\"dataframe\">\n",
       "  <thead>\n",
       "    <tr style=\"text-align: right;\">\n",
       "      <th></th>\n",
       "      <th>state</th>\n",
       "      <th>total_revenues</th>\n",
       "    </tr>\n",
       "  </thead>\n",
       "  <tbody>\n",
       "    <tr>\n",
       "      <th>48</th>\n",
       "      <td>Wyoming</td>\n",
       "      <td>1603.136</td>\n",
       "    </tr>\n",
       "    <tr>\n",
       "      <th>39</th>\n",
       "      <td>South Dakota</td>\n",
       "      <td>1315.560</td>\n",
       "    </tr>\n",
       "    <tr>\n",
       "      <th>17</th>\n",
       "      <td>Maine</td>\n",
       "      <td>1270.530</td>\n",
       "    </tr>\n",
       "    <tr>\n",
       "      <th>46</th>\n",
       "      <td>West Virginia</td>\n",
       "      <td>1209.824</td>\n",
       "    </tr>\n",
       "    <tr>\n",
       "      <th>32</th>\n",
       "      <td>North Dakota</td>\n",
       "      <td>919.910</td>\n",
       "    </tr>\n",
       "  </tbody>\n",
       "</table>\n",
       "</div>"
      ],
      "text/plain": [
       "            state  total_revenues\n",
       "48        Wyoming        1603.136\n",
       "39   South Dakota        1315.560\n",
       "17          Maine        1270.530\n",
       "46  West Virginia        1209.824\n",
       "32   North Dakota         919.910"
      ]
     },
     "execution_count": 148,
     "metadata": {},
     "output_type": "execute_result"
    }
   ],
   "source": [
    "stater[-5:]"
   ]
  },
  {
   "attachments": {},
   "cell_type": "markdown",
   "metadata": {},
   "source": [
    "Profit"
   ]
  },
  {
   "cell_type": "code",
   "execution_count": 265,
   "metadata": {},
   "outputs": [
    {
     "data": {
      "text/html": [
       "<div>\n",
       "<style scoped>\n",
       "    .dataframe tbody tr th:only-of-type {\n",
       "        vertical-align: middle;\n",
       "    }\n",
       "\n",
       "    .dataframe tbody tr th {\n",
       "        vertical-align: top;\n",
       "    }\n",
       "\n",
       "    .dataframe thead th {\n",
       "        text-align: right;\n",
       "    }\n",
       "</style>\n",
       "<table border=\"1\" class=\"dataframe\">\n",
       "  <thead>\n",
       "    <tr style=\"text-align: right;\">\n",
       "      <th></th>\n",
       "      <th>index</th>\n",
       "      <th>state</th>\n",
       "      <th>total_profit</th>\n",
       "    </tr>\n",
       "  </thead>\n",
       "  <tbody>\n",
       "    <tr>\n",
       "      <th>0</th>\n",
       "      <td>3</td>\n",
       "      <td>California</td>\n",
       "      <td>76381.387</td>\n",
       "    </tr>\n",
       "    <tr>\n",
       "      <th>1</th>\n",
       "      <td>30</td>\n",
       "      <td>New York</td>\n",
       "      <td>74038.549</td>\n",
       "    </tr>\n",
       "    <tr>\n",
       "      <th>2</th>\n",
       "      <td>45</td>\n",
       "      <td>Washington</td>\n",
       "      <td>33402.652</td>\n",
       "    </tr>\n",
       "    <tr>\n",
       "      <th>3</th>\n",
       "      <td>20</td>\n",
       "      <td>Michigan</td>\n",
       "      <td>24463.188</td>\n",
       "    </tr>\n",
       "    <tr>\n",
       "      <th>4</th>\n",
       "      <td>44</td>\n",
       "      <td>Virginia</td>\n",
       "      <td>18597.950</td>\n",
       "    </tr>\n",
       "    <tr>\n",
       "      <th>5</th>\n",
       "      <td>12</td>\n",
       "      <td>Indiana</td>\n",
       "      <td>18382.936</td>\n",
       "    </tr>\n",
       "    <tr>\n",
       "      <th>6</th>\n",
       "      <td>9</td>\n",
       "      <td>Georgia</td>\n",
       "      <td>16250.043</td>\n",
       "    </tr>\n",
       "    <tr>\n",
       "      <th>7</th>\n",
       "      <td>15</td>\n",
       "      <td>Kentucky</td>\n",
       "      <td>11199.697</td>\n",
       "    </tr>\n",
       "    <tr>\n",
       "      <th>8</th>\n",
       "      <td>21</td>\n",
       "      <td>Minnesota</td>\n",
       "      <td>10823.187</td>\n",
       "    </tr>\n",
       "    <tr>\n",
       "      <th>9</th>\n",
       "      <td>6</td>\n",
       "      <td>Delaware</td>\n",
       "      <td>9977.375</td>\n",
       "    </tr>\n",
       "    <tr>\n",
       "      <th>10</th>\n",
       "      <td>28</td>\n",
       "      <td>New Jersey</td>\n",
       "      <td>9772.914</td>\n",
       "    </tr>\n",
       "    <tr>\n",
       "      <th>11</th>\n",
       "      <td>47</td>\n",
       "      <td>Wisconsin</td>\n",
       "      <td>8401.800</td>\n",
       "    </tr>\n",
       "    <tr>\n",
       "      <th>12</th>\n",
       "      <td>37</td>\n",
       "      <td>Rhode Island</td>\n",
       "      <td>7285.629</td>\n",
       "    </tr>\n",
       "    <tr>\n",
       "      <th>13</th>\n",
       "      <td>18</td>\n",
       "      <td>Maryland</td>\n",
       "      <td>7031.179</td>\n",
       "    </tr>\n",
       "    <tr>\n",
       "      <th>14</th>\n",
       "      <td>19</td>\n",
       "      <td>Massachusetts</td>\n",
       "      <td>6785.502</td>\n",
       "    </tr>\n",
       "    <tr>\n",
       "      <th>15</th>\n",
       "      <td>23</td>\n",
       "      <td>Missouri</td>\n",
       "      <td>6436.211</td>\n",
       "    </tr>\n",
       "    <tr>\n",
       "      <th>16</th>\n",
       "      <td>0</td>\n",
       "      <td>Alabama</td>\n",
       "      <td>5786.825</td>\n",
       "    </tr>\n",
       "    <tr>\n",
       "      <th>17</th>\n",
       "      <td>34</td>\n",
       "      <td>Oklahoma</td>\n",
       "      <td>4853.956</td>\n",
       "    </tr>\n",
       "    <tr>\n",
       "      <th>18</th>\n",
       "      <td>2</td>\n",
       "      <td>Arkansas</td>\n",
       "      <td>4008.687</td>\n",
       "    </tr>\n",
       "    <tr>\n",
       "      <th>19</th>\n",
       "      <td>5</td>\n",
       "      <td>Connecticut</td>\n",
       "      <td>3511.492</td>\n",
       "    </tr>\n",
       "    <tr>\n",
       "      <th>20</th>\n",
       "      <td>26</td>\n",
       "      <td>Nevada</td>\n",
       "      <td>3316.766</td>\n",
       "    </tr>\n",
       "    <tr>\n",
       "      <th>21</th>\n",
       "      <td>22</td>\n",
       "      <td>Mississippi</td>\n",
       "      <td>3172.976</td>\n",
       "    </tr>\n",
       "    <tr>\n",
       "      <th>22</th>\n",
       "      <td>42</td>\n",
       "      <td>Utah</td>\n",
       "      <td>2546.534</td>\n",
       "    </tr>\n",
       "    <tr>\n",
       "      <th>23</th>\n",
       "      <td>43</td>\n",
       "      <td>Vermont</td>\n",
       "      <td>2244.978</td>\n",
       "    </tr>\n",
       "    <tr>\n",
       "      <th>24</th>\n",
       "      <td>16</td>\n",
       "      <td>Louisiana</td>\n",
       "      <td>2196.102</td>\n",
       "    </tr>\n",
       "    <tr>\n",
       "      <th>25</th>\n",
       "      <td>25</td>\n",
       "      <td>Nebraska</td>\n",
       "      <td>2037.094</td>\n",
       "    </tr>\n",
       "    <tr>\n",
       "      <th>26</th>\n",
       "      <td>24</td>\n",
       "      <td>Montana</td>\n",
       "      <td>1833.328</td>\n",
       "    </tr>\n",
       "    <tr>\n",
       "      <th>27</th>\n",
       "      <td>38</td>\n",
       "      <td>South Carolina</td>\n",
       "      <td>1769.057</td>\n",
       "    </tr>\n",
       "    <tr>\n",
       "      <th>28</th>\n",
       "      <td>27</td>\n",
       "      <td>New Hampshire</td>\n",
       "      <td>1706.503</td>\n",
       "    </tr>\n",
       "    <tr>\n",
       "      <th>29</th>\n",
       "      <td>13</td>\n",
       "      <td>Iowa</td>\n",
       "      <td>1183.812</td>\n",
       "    </tr>\n",
       "    <tr>\n",
       "      <th>30</th>\n",
       "      <td>29</td>\n",
       "      <td>New Mexico</td>\n",
       "      <td>1157.116</td>\n",
       "    </tr>\n",
       "    <tr>\n",
       "      <th>31</th>\n",
       "      <td>7</td>\n",
       "      <td>District of Columbia</td>\n",
       "      <td>1059.589</td>\n",
       "    </tr>\n",
       "    <tr>\n",
       "      <th>32</th>\n",
       "      <td>14</td>\n",
       "      <td>Kansas</td>\n",
       "      <td>836.443</td>\n",
       "    </tr>\n",
       "    <tr>\n",
       "      <th>33</th>\n",
       "      <td>10</td>\n",
       "      <td>Idaho</td>\n",
       "      <td>826.723</td>\n",
       "    </tr>\n",
       "    <tr>\n",
       "      <th>34</th>\n",
       "      <td>17</td>\n",
       "      <td>Maine</td>\n",
       "      <td>454.486</td>\n",
       "    </tr>\n",
       "    <tr>\n",
       "      <th>35</th>\n",
       "      <td>39</td>\n",
       "      <td>South Dakota</td>\n",
       "      <td>394.828</td>\n",
       "    </tr>\n",
       "    <tr>\n",
       "      <th>36</th>\n",
       "      <td>32</td>\n",
       "      <td>North Dakota</td>\n",
       "      <td>230.150</td>\n",
       "    </tr>\n",
       "    <tr>\n",
       "      <th>37</th>\n",
       "      <td>46</td>\n",
       "      <td>West Virginia</td>\n",
       "      <td>185.922</td>\n",
       "    </tr>\n",
       "    <tr>\n",
       "      <th>38</th>\n",
       "      <td>48</td>\n",
       "      <td>Wyoming</td>\n",
       "      <td>100.196</td>\n",
       "    </tr>\n",
       "    <tr>\n",
       "      <th>39</th>\n",
       "      <td>35</td>\n",
       "      <td>Oregon</td>\n",
       "      <td>-1190.470</td>\n",
       "    </tr>\n",
       "    <tr>\n",
       "      <th>40</th>\n",
       "      <td>8</td>\n",
       "      <td>Florida</td>\n",
       "      <td>-3399.302</td>\n",
       "    </tr>\n",
       "    <tr>\n",
       "      <th>41</th>\n",
       "      <td>1</td>\n",
       "      <td>Arizona</td>\n",
       "      <td>-3427.925</td>\n",
       "    </tr>\n",
       "    <tr>\n",
       "      <th>42</th>\n",
       "      <td>40</td>\n",
       "      <td>Tennessee</td>\n",
       "      <td>-5341.694</td>\n",
       "    </tr>\n",
       "    <tr>\n",
       "      <th>43</th>\n",
       "      <td>4</td>\n",
       "      <td>Colorado</td>\n",
       "      <td>-6527.858</td>\n",
       "    </tr>\n",
       "    <tr>\n",
       "      <th>44</th>\n",
       "      <td>31</td>\n",
       "      <td>North Carolina</td>\n",
       "      <td>-7490.912</td>\n",
       "    </tr>\n",
       "    <tr>\n",
       "      <th>45</th>\n",
       "      <td>11</td>\n",
       "      <td>Illinois</td>\n",
       "      <td>-12607.887</td>\n",
       "    </tr>\n",
       "    <tr>\n",
       "      <th>46</th>\n",
       "      <td>36</td>\n",
       "      <td>Pennsylvania</td>\n",
       "      <td>-15559.960</td>\n",
       "    </tr>\n",
       "    <tr>\n",
       "      <th>47</th>\n",
       "      <td>33</td>\n",
       "      <td>Ohio</td>\n",
       "      <td>-16971.377</td>\n",
       "    </tr>\n",
       "    <tr>\n",
       "      <th>48</th>\n",
       "      <td>41</td>\n",
       "      <td>Texas</td>\n",
       "      <td>-25729.356</td>\n",
       "    </tr>\n",
       "  </tbody>\n",
       "</table>\n",
       "</div>"
      ],
      "text/plain": [
       "    index                 state  total_profit\n",
       "0       3            California     76381.387\n",
       "1      30              New York     74038.549\n",
       "2      45            Washington     33402.652\n",
       "3      20              Michigan     24463.188\n",
       "4      44              Virginia     18597.950\n",
       "5      12               Indiana     18382.936\n",
       "6       9               Georgia     16250.043\n",
       "7      15              Kentucky     11199.697\n",
       "8      21             Minnesota     10823.187\n",
       "9       6              Delaware      9977.375\n",
       "10     28            New Jersey      9772.914\n",
       "11     47             Wisconsin      8401.800\n",
       "12     37          Rhode Island      7285.629\n",
       "13     18              Maryland      7031.179\n",
       "14     19         Massachusetts      6785.502\n",
       "15     23              Missouri      6436.211\n",
       "16      0               Alabama      5786.825\n",
       "17     34              Oklahoma      4853.956\n",
       "18      2              Arkansas      4008.687\n",
       "19      5           Connecticut      3511.492\n",
       "20     26                Nevada      3316.766\n",
       "21     22           Mississippi      3172.976\n",
       "22     42                  Utah      2546.534\n",
       "23     43               Vermont      2244.978\n",
       "24     16             Louisiana      2196.102\n",
       "25     25              Nebraska      2037.094\n",
       "26     24               Montana      1833.328\n",
       "27     38        South Carolina      1769.057\n",
       "28     27         New Hampshire      1706.503\n",
       "29     13                  Iowa      1183.812\n",
       "30     29            New Mexico      1157.116\n",
       "31      7  District of Columbia      1059.589\n",
       "32     14                Kansas       836.443\n",
       "33     10                 Idaho       826.723\n",
       "34     17                 Maine       454.486\n",
       "35     39          South Dakota       394.828\n",
       "36     32          North Dakota       230.150\n",
       "37     46         West Virginia       185.922\n",
       "38     48               Wyoming       100.196\n",
       "39     35                Oregon     -1190.470\n",
       "40      8               Florida     -3399.302\n",
       "41      1               Arizona     -3427.925\n",
       "42     40             Tennessee     -5341.694\n",
       "43      4              Colorado     -6527.858\n",
       "44     31        North Carolina     -7490.912\n",
       "45     11              Illinois    -12607.887\n",
       "46     36          Pennsylvania    -15559.960\n",
       "47     33                  Ohio    -16971.377\n",
       "48     41                 Texas    -25729.356"
      ]
     },
     "execution_count": 265,
     "metadata": {},
     "output_type": "execute_result"
    }
   ],
   "source": [
    "# Mencari nilai profit diurutkan dari profit tertinggi\n",
    "statep = df.groupby(\"state\")[\"profit\"].sum().reset_index(name=\"total_profit\")\n",
    "statep = statep.sort_values(by=\"total_profit\", ascending=False).reset_index()\n",
    "statep"
   ]
  },
  {
   "attachments": {},
   "cell_type": "markdown",
   "metadata": {},
   "source": [
    "top 5 Profit"
   ]
  },
  {
   "cell_type": "code",
   "execution_count": 223,
   "metadata": {},
   "outputs": [
    {
     "data": {
      "text/html": [
       "<div>\n",
       "<style scoped>\n",
       "    .dataframe tbody tr th:only-of-type {\n",
       "        vertical-align: middle;\n",
       "    }\n",
       "\n",
       "    .dataframe tbody tr th {\n",
       "        vertical-align: top;\n",
       "    }\n",
       "\n",
       "    .dataframe thead th {\n",
       "        text-align: right;\n",
       "    }\n",
       "</style>\n",
       "<table border=\"1\" class=\"dataframe\">\n",
       "  <thead>\n",
       "    <tr style=\"text-align: right;\">\n",
       "      <th></th>\n",
       "      <th>index</th>\n",
       "      <th>state</th>\n",
       "      <th>total_profit</th>\n",
       "    </tr>\n",
       "  </thead>\n",
       "  <tbody>\n",
       "    <tr>\n",
       "      <th>0</th>\n",
       "      <td>3</td>\n",
       "      <td>California</td>\n",
       "      <td>76381.387</td>\n",
       "    </tr>\n",
       "    <tr>\n",
       "      <th>1</th>\n",
       "      <td>30</td>\n",
       "      <td>New York</td>\n",
       "      <td>74038.549</td>\n",
       "    </tr>\n",
       "    <tr>\n",
       "      <th>2</th>\n",
       "      <td>45</td>\n",
       "      <td>Washington</td>\n",
       "      <td>33402.652</td>\n",
       "    </tr>\n",
       "    <tr>\n",
       "      <th>3</th>\n",
       "      <td>20</td>\n",
       "      <td>Michigan</td>\n",
       "      <td>24463.188</td>\n",
       "    </tr>\n",
       "    <tr>\n",
       "      <th>4</th>\n",
       "      <td>44</td>\n",
       "      <td>Virginia</td>\n",
       "      <td>18597.950</td>\n",
       "    </tr>\n",
       "  </tbody>\n",
       "</table>\n",
       "</div>"
      ],
      "text/plain": [
       "   index       state  total_profit\n",
       "0      3  California     76381.387\n",
       "1     30    New York     74038.549\n",
       "2     45  Washington     33402.652\n",
       "3     20    Michigan     24463.188\n",
       "4     44    Virginia     18597.950"
      ]
     },
     "execution_count": 223,
     "metadata": {},
     "output_type": "execute_result"
    }
   ],
   "source": [
    "statep[:5]"
   ]
  },
  {
   "attachments": {},
   "cell_type": "markdown",
   "metadata": {},
   "source": [
    "State dengan rugi"
   ]
  },
  {
   "cell_type": "code",
   "execution_count": 268,
   "metadata": {},
   "outputs": [
    {
     "data": {
      "text/html": [
       "<div>\n",
       "<style scoped>\n",
       "    .dataframe tbody tr th:only-of-type {\n",
       "        vertical-align: middle;\n",
       "    }\n",
       "\n",
       "    .dataframe tbody tr th {\n",
       "        vertical-align: top;\n",
       "    }\n",
       "\n",
       "    .dataframe thead th {\n",
       "        text-align: right;\n",
       "    }\n",
       "</style>\n",
       "<table border=\"1\" class=\"dataframe\">\n",
       "  <thead>\n",
       "    <tr style=\"text-align: right;\">\n",
       "      <th></th>\n",
       "      <th>index</th>\n",
       "      <th>state</th>\n",
       "      <th>total_profit</th>\n",
       "    </tr>\n",
       "  </thead>\n",
       "  <tbody>\n",
       "    <tr>\n",
       "      <th>39</th>\n",
       "      <td>35</td>\n",
       "      <td>Oregon</td>\n",
       "      <td>-1190.470</td>\n",
       "    </tr>\n",
       "    <tr>\n",
       "      <th>40</th>\n",
       "      <td>8</td>\n",
       "      <td>Florida</td>\n",
       "      <td>-3399.302</td>\n",
       "    </tr>\n",
       "    <tr>\n",
       "      <th>41</th>\n",
       "      <td>1</td>\n",
       "      <td>Arizona</td>\n",
       "      <td>-3427.925</td>\n",
       "    </tr>\n",
       "    <tr>\n",
       "      <th>42</th>\n",
       "      <td>40</td>\n",
       "      <td>Tennessee</td>\n",
       "      <td>-5341.694</td>\n",
       "    </tr>\n",
       "    <tr>\n",
       "      <th>43</th>\n",
       "      <td>4</td>\n",
       "      <td>Colorado</td>\n",
       "      <td>-6527.858</td>\n",
       "    </tr>\n",
       "    <tr>\n",
       "      <th>44</th>\n",
       "      <td>31</td>\n",
       "      <td>North Carolina</td>\n",
       "      <td>-7490.912</td>\n",
       "    </tr>\n",
       "    <tr>\n",
       "      <th>45</th>\n",
       "      <td>11</td>\n",
       "      <td>Illinois</td>\n",
       "      <td>-12607.887</td>\n",
       "    </tr>\n",
       "    <tr>\n",
       "      <th>46</th>\n",
       "      <td>36</td>\n",
       "      <td>Pennsylvania</td>\n",
       "      <td>-15559.960</td>\n",
       "    </tr>\n",
       "    <tr>\n",
       "      <th>47</th>\n",
       "      <td>33</td>\n",
       "      <td>Ohio</td>\n",
       "      <td>-16971.377</td>\n",
       "    </tr>\n",
       "    <tr>\n",
       "      <th>48</th>\n",
       "      <td>41</td>\n",
       "      <td>Texas</td>\n",
       "      <td>-25729.356</td>\n",
       "    </tr>\n",
       "  </tbody>\n",
       "</table>\n",
       "</div>"
      ],
      "text/plain": [
       "    index           state  total_profit\n",
       "39     35          Oregon     -1190.470\n",
       "40      8         Florida     -3399.302\n",
       "41      1         Arizona     -3427.925\n",
       "42     40       Tennessee     -5341.694\n",
       "43      4        Colorado     -6527.858\n",
       "44     31  North Carolina     -7490.912\n",
       "45     11        Illinois    -12607.887\n",
       "46     36    Pennsylvania    -15559.960\n",
       "47     33            Ohio    -16971.377\n",
       "48     41           Texas    -25729.356"
      ]
     },
     "execution_count": 268,
     "metadata": {},
     "output_type": "execute_result"
    }
   ],
   "source": [
    "statep[-10:]"
   ]
  },
  {
   "attachments": {},
   "cell_type": "markdown",
   "metadata": {},
   "source": [
    "Visual"
   ]
  },
  {
   "cell_type": "code",
   "execution_count": 226,
   "metadata": {},
   "outputs": [
    {
     "data": {
      "text/plain": [
       "<BarContainer object of 49 artists>"
      ]
     },
     "execution_count": 226,
     "metadata": {},
     "output_type": "execute_result"
    },
    {
     "data": {
      "image/png": "[encoded data removed]",
      "text/plain": [
       "<Figure size 640x480 with 1 Axes>"
      ]
     },
     "metadata": {},
     "output_type": "display_data"
    }
   ],
   "source": [
    "plt.barh(statep[\"state\"][::-1],statep[\"total_profit\"][::-1])"
   ]
  },
  {
   "cell_type": "code",
   "execution_count": 271,
   "metadata": {},
   "outputs": [
    {
     "data": {
      "text/plain": [
       "Text(0.5, 1.0, 'State Rugi')"
      ]
     },
     "execution_count": 271,
     "metadata": {},
     "output_type": "execute_result"
    },
    {
     "data": {
      "image/png": "[encoded data removed]",
      "text/plain": [
       "<Figure size 2100x500 with 2 Axes>"
      ]
     },
     "metadata": {},
     "output_type": "display_data"
    }
   ],
   "source": [
    "fig, ax = plt.subplots(ncols=2,figsize=(21,5))\n",
    "\n",
    "ax[0].bar(statep[\"state\"][:5],statep[\"total_profit\"][:5], color=\"green\")\n",
    "ax[0].set_title(\"Top 5 Profit\")\n",
    "ax[1].bar(statep[\"state\"][-10:],statep[\"total_profit\"][-10:], color=\"red\")\n",
    "ax[1].set_title(\"State Rugi\")"
   ]
  },
  {
   "attachments": {},
   "cell_type": "markdown",
   "metadata": {},
   "source": [
    "Insight"
   ]
  },
  {
   "attachments": {},
   "cell_type": "markdown",
   "metadata": {},
   "source": [
    "1. State dengan profit tertinggi ialah California dan state yang memiliki profit terendah adalah Texas."
   ]
  },
  {
   "attachments": {},
   "cell_type": "markdown",
   "metadata": {},
   "source": [
    "2. Ada 10 State yang memiliki profit kurang dari 0, diurutkan dari kerugian yang paling besar hingga kerugian yang paling kecil yaitu 'Texas', 'Ohio', 'Pennsylvania', 'Illinois', 'North Carolina','Colorado', 'Tennessee', 'Arizona', 'Florida', 'Oregon'."
   ]
  },
  {
   "attachments": {},
   "cell_type": "markdown",
   "metadata": {},
   "source": [
    "## Analysis Date"
   ]
  },
  {
   "attachments": {},
   "cell_type": "markdown",
   "metadata": {},
   "source": [
    "perkembangan nilai profit setiap bulannya"
   ]
  },
  {
   "cell_type": "code",
   "execution_count": 239,
   "metadata": {},
   "outputs": [
    {
     "data": {
      "text/html": [
       "<div>\n",
       "<style scoped>\n",
       "    .dataframe tbody tr th:only-of-type {\n",
       "        vertical-align: middle;\n",
       "    }\n",
       "\n",
       "    .dataframe tbody tr th {\n",
       "        vertical-align: top;\n",
       "    }\n",
       "\n",
       "    .dataframe thead th {\n",
       "        text-align: right;\n",
       "    }\n",
       "</style>\n",
       "<table border=\"1\" class=\"dataframe\">\n",
       "  <thead>\n",
       "    <tr style=\"text-align: right;\">\n",
       "      <th></th>\n",
       "      <th>my</th>\n",
       "      <th>total_profit</th>\n",
       "    </tr>\n",
       "  </thead>\n",
       "  <tbody>\n",
       "    <tr>\n",
       "      <th>0</th>\n",
       "      <td>2014-01</td>\n",
       "      <td>2450.191</td>\n",
       "    </tr>\n",
       "    <tr>\n",
       "      <th>1</th>\n",
       "      <td>2014-02</td>\n",
       "      <td>862.308</td>\n",
       "    </tr>\n",
       "    <tr>\n",
       "      <th>2</th>\n",
       "      <td>2014-03</td>\n",
       "      <td>498.730</td>\n",
       "    </tr>\n",
       "    <tr>\n",
       "      <th>3</th>\n",
       "      <td>2014-04</td>\n",
       "      <td>3488.835</td>\n",
       "    </tr>\n",
       "    <tr>\n",
       "      <th>4</th>\n",
       "      <td>2014-05</td>\n",
       "      <td>2738.710</td>\n",
       "    </tr>\n",
       "    <tr>\n",
       "      <th>5</th>\n",
       "      <td>2014-06</td>\n",
       "      <td>4976.524</td>\n",
       "    </tr>\n",
       "    <tr>\n",
       "      <th>6</th>\n",
       "      <td>2014-07</td>\n",
       "      <td>-841.483</td>\n",
       "    </tr>\n",
       "    <tr>\n",
       "      <th>7</th>\n",
       "      <td>2014-08</td>\n",
       "      <td>5318.105</td>\n",
       "    </tr>\n",
       "    <tr>\n",
       "      <th>8</th>\n",
       "      <td>2014-09</td>\n",
       "      <td>8328.099</td>\n",
       "    </tr>\n",
       "    <tr>\n",
       "      <th>9</th>\n",
       "      <td>2014-10</td>\n",
       "      <td>3448.257</td>\n",
       "    </tr>\n",
       "    <tr>\n",
       "      <th>10</th>\n",
       "      <td>2014-11</td>\n",
       "      <td>9292.127</td>\n",
       "    </tr>\n",
       "    <tr>\n",
       "      <th>11</th>\n",
       "      <td>2014-12</td>\n",
       "      <td>8983.570</td>\n",
       "    </tr>\n",
       "    <tr>\n",
       "      <th>12</th>\n",
       "      <td>2015-01</td>\n",
       "      <td>-3281.007</td>\n",
       "    </tr>\n",
       "    <tr>\n",
       "      <th>13</th>\n",
       "      <td>2015-02</td>\n",
       "      <td>2813.851</td>\n",
       "    </tr>\n",
       "    <tr>\n",
       "      <th>14</th>\n",
       "      <td>2015-03</td>\n",
       "      <td>9732.098</td>\n",
       "    </tr>\n",
       "    <tr>\n",
       "      <th>15</th>\n",
       "      <td>2015-04</td>\n",
       "      <td>4187.496</td>\n",
       "    </tr>\n",
       "    <tr>\n",
       "      <th>16</th>\n",
       "      <td>2015-05</td>\n",
       "      <td>4667.869</td>\n",
       "    </tr>\n",
       "    <tr>\n",
       "      <th>17</th>\n",
       "      <td>2015-06</td>\n",
       "      <td>3335.557</td>\n",
       "    </tr>\n",
       "    <tr>\n",
       "      <th>18</th>\n",
       "      <td>2015-07</td>\n",
       "      <td>3288.648</td>\n",
       "    </tr>\n",
       "    <tr>\n",
       "      <th>19</th>\n",
       "      <td>2015-08</td>\n",
       "      <td>5355.808</td>\n",
       "    </tr>\n",
       "    <tr>\n",
       "      <th>20</th>\n",
       "      <td>2015-09</td>\n",
       "      <td>8209.163</td>\n",
       "    </tr>\n",
       "    <tr>\n",
       "      <th>21</th>\n",
       "      <td>2015-10</td>\n",
       "      <td>2817.366</td>\n",
       "    </tr>\n",
       "    <tr>\n",
       "      <th>22</th>\n",
       "      <td>2015-11</td>\n",
       "      <td>12474.788</td>\n",
       "    </tr>\n",
       "    <tr>\n",
       "      <th>23</th>\n",
       "      <td>2015-12</td>\n",
       "      <td>8016.966</td>\n",
       "    </tr>\n",
       "    <tr>\n",
       "      <th>24</th>\n",
       "      <td>2016-01</td>\n",
       "      <td>2824.823</td>\n",
       "    </tr>\n",
       "    <tr>\n",
       "      <th>25</th>\n",
       "      <td>2016-02</td>\n",
       "      <td>5004.579</td>\n",
       "    </tr>\n",
       "    <tr>\n",
       "      <th>26</th>\n",
       "      <td>2016-03</td>\n",
       "      <td>3611.968</td>\n",
       "    </tr>\n",
       "    <tr>\n",
       "      <th>27</th>\n",
       "      <td>2016-04</td>\n",
       "      <td>2977.815</td>\n",
       "    </tr>\n",
       "    <tr>\n",
       "      <th>28</th>\n",
       "      <td>2016-05</td>\n",
       "      <td>8662.146</td>\n",
       "    </tr>\n",
       "    <tr>\n",
       "      <th>29</th>\n",
       "      <td>2016-06</td>\n",
       "      <td>4750.378</td>\n",
       "    </tr>\n",
       "    <tr>\n",
       "      <th>30</th>\n",
       "      <td>2016-07</td>\n",
       "      <td>4432.878</td>\n",
       "    </tr>\n",
       "    <tr>\n",
       "      <th>31</th>\n",
       "      <td>2016-08</td>\n",
       "      <td>2062.069</td>\n",
       "    </tr>\n",
       "    <tr>\n",
       "      <th>32</th>\n",
       "      <td>2016-09</td>\n",
       "      <td>9328.658</td>\n",
       "    </tr>\n",
       "    <tr>\n",
       "      <th>33</th>\n",
       "      <td>2016-10</td>\n",
       "      <td>16243.142</td>\n",
       "    </tr>\n",
       "    <tr>\n",
       "      <th>34</th>\n",
       "      <td>2016-11</td>\n",
       "      <td>4011.407</td>\n",
       "    </tr>\n",
       "    <tr>\n",
       "      <th>35</th>\n",
       "      <td>2016-12</td>\n",
       "      <td>17885.309</td>\n",
       "    </tr>\n",
       "    <tr>\n",
       "      <th>36</th>\n",
       "      <td>2017-01</td>\n",
       "      <td>7140.439</td>\n",
       "    </tr>\n",
       "    <tr>\n",
       "      <th>37</th>\n",
       "      <td>2017-02</td>\n",
       "      <td>1613.872</td>\n",
       "    </tr>\n",
       "    <tr>\n",
       "      <th>38</th>\n",
       "      <td>2017-03</td>\n",
       "      <td>14751.891</td>\n",
       "    </tr>\n",
       "    <tr>\n",
       "      <th>39</th>\n",
       "      <td>2017-04</td>\n",
       "      <td>933.290</td>\n",
       "    </tr>\n",
       "    <tr>\n",
       "      <th>40</th>\n",
       "      <td>2017-05</td>\n",
       "      <td>6342.583</td>\n",
       "    </tr>\n",
       "    <tr>\n",
       "      <th>41</th>\n",
       "      <td>2017-06</td>\n",
       "      <td>8223.336</td>\n",
       "    </tr>\n",
       "    <tr>\n",
       "      <th>42</th>\n",
       "      <td>2017-07</td>\n",
       "      <td>6952.621</td>\n",
       "    </tr>\n",
       "    <tr>\n",
       "      <th>43</th>\n",
       "      <td>2017-08</td>\n",
       "      <td>9040.956</td>\n",
       "    </tr>\n",
       "    <tr>\n",
       "      <th>44</th>\n",
       "      <td>2017-09</td>\n",
       "      <td>10991.556</td>\n",
       "    </tr>\n",
       "    <tr>\n",
       "      <th>45</th>\n",
       "      <td>2017-10</td>\n",
       "      <td>9275.275</td>\n",
       "    </tr>\n",
       "    <tr>\n",
       "      <th>46</th>\n",
       "      <td>2017-11</td>\n",
       "      <td>9690.104</td>\n",
       "    </tr>\n",
       "    <tr>\n",
       "      <th>47</th>\n",
       "      <td>2017-12</td>\n",
       "      <td>8483.347</td>\n",
       "    </tr>\n",
       "  </tbody>\n",
       "</table>\n",
       "</div>"
      ],
      "text/plain": [
       "         my  total_profit\n",
       "0   2014-01      2450.191\n",
       "1   2014-02       862.308\n",
       "2   2014-03       498.730\n",
       "3   2014-04      3488.835\n",
       "4   2014-05      2738.710\n",
       "5   2014-06      4976.524\n",
       "6   2014-07      -841.483\n",
       "7   2014-08      5318.105\n",
       "8   2014-09      8328.099\n",
       "9   2014-10      3448.257\n",
       "10  2014-11      9292.127\n",
       "11  2014-12      8983.570\n",
       "12  2015-01     -3281.007\n",
       "13  2015-02      2813.851\n",
       "14  2015-03      9732.098\n",
       "15  2015-04      4187.496\n",
       "16  2015-05      4667.869\n",
       "17  2015-06      3335.557\n",
       "18  2015-07      3288.648\n",
       "19  2015-08      5355.808\n",
       "20  2015-09      8209.163\n",
       "21  2015-10      2817.366\n",
       "22  2015-11     12474.788\n",
       "23  2015-12      8016.966\n",
       "24  2016-01      2824.823\n",
       "25  2016-02      5004.579\n",
       "26  2016-03      3611.968\n",
       "27  2016-04      2977.815\n",
       "28  2016-05      8662.146\n",
       "29  2016-06      4750.378\n",
       "30  2016-07      4432.878\n",
       "31  2016-08      2062.069\n",
       "32  2016-09      9328.658\n",
       "33  2016-10     16243.142\n",
       "34  2016-11      4011.407\n",
       "35  2016-12     17885.309\n",
       "36  2017-01      7140.439\n",
       "37  2017-02      1613.872\n",
       "38  2017-03     14751.891\n",
       "39  2017-04       933.290\n",
       "40  2017-05      6342.583\n",
       "41  2017-06      8223.336\n",
       "42  2017-07      6952.621\n",
       "43  2017-08      9040.956\n",
       "44  2017-09     10991.556\n",
       "45  2017-10      9275.275\n",
       "46  2017-11      9690.104\n",
       "47  2017-12      8483.347"
      ]
     },
     "execution_count": 239,
     "metadata": {},
     "output_type": "execute_result"
    }
   ],
   "source": [
    "profitmy = df.groupby(\"my\")[\"profit\"].sum().reset_index(name=\"total_profit\")\n",
    "profitmy"
   ]
  },
  {
   "cell_type": "code",
   "execution_count": 240,
   "metadata": {},
   "outputs": [
    {
     "data": {
      "text/plain": [
       "[<matplotlib.lines.Line2D at 0x16ce1dc4f10>]"
      ]
     },
     "execution_count": 240,
     "metadata": {},
     "output_type": "execute_result"
    },
    {
     "data": {
      "image/png": "[encoded data removed]",
      "text/plain": [
       "<Figure size 640x480 with 1 Axes>"
      ]
     },
     "metadata": {},
     "output_type": "display_data"
    }
   ],
   "source": [
    "plt.plot(range(48), profitmy[\"total_profit\"])"
   ]
  },
  {
   "attachments": {},
   "cell_type": "markdown",
   "metadata": {},
   "source": [
    "total nilai revenues setiap bulannya"
   ]
  },
  {
   "cell_type": "code",
   "execution_count": 241,
   "metadata": {},
   "outputs": [
    {
     "data": {
      "text/html": [
       "<div>\n",
       "<style scoped>\n",
       "    .dataframe tbody tr th:only-of-type {\n",
       "        vertical-align: middle;\n",
       "    }\n",
       "\n",
       "    .dataframe tbody tr th {\n",
       "        vertical-align: top;\n",
       "    }\n",
       "\n",
       "    .dataframe thead th {\n",
       "        text-align: right;\n",
       "    }\n",
       "</style>\n",
       "<table border=\"1\" class=\"dataframe\">\n",
       "  <thead>\n",
       "    <tr style=\"text-align: right;\">\n",
       "      <th></th>\n",
       "      <th>mm</th>\n",
       "      <th>total_profit</th>\n",
       "    </tr>\n",
       "  </thead>\n",
       "  <tbody>\n",
       "    <tr>\n",
       "      <th>0</th>\n",
       "      <td>1</td>\n",
       "      <td>9134.446</td>\n",
       "    </tr>\n",
       "    <tr>\n",
       "      <th>1</th>\n",
       "      <td>2</td>\n",
       "      <td>10294.611</td>\n",
       "    </tr>\n",
       "    <tr>\n",
       "      <th>2</th>\n",
       "      <td>3</td>\n",
       "      <td>28594.687</td>\n",
       "    </tr>\n",
       "    <tr>\n",
       "      <th>3</th>\n",
       "      <td>4</td>\n",
       "      <td>11587.436</td>\n",
       "    </tr>\n",
       "    <tr>\n",
       "      <th>4</th>\n",
       "      <td>5</td>\n",
       "      <td>22411.308</td>\n",
       "    </tr>\n",
       "    <tr>\n",
       "      <th>5</th>\n",
       "      <td>6</td>\n",
       "      <td>21285.795</td>\n",
       "    </tr>\n",
       "    <tr>\n",
       "      <th>6</th>\n",
       "      <td>7</td>\n",
       "      <td>13832.665</td>\n",
       "    </tr>\n",
       "    <tr>\n",
       "      <th>7</th>\n",
       "      <td>8</td>\n",
       "      <td>21776.938</td>\n",
       "    </tr>\n",
       "    <tr>\n",
       "      <th>8</th>\n",
       "      <td>9</td>\n",
       "      <td>36857.475</td>\n",
       "    </tr>\n",
       "    <tr>\n",
       "      <th>9</th>\n",
       "      <td>10</td>\n",
       "      <td>31784.041</td>\n",
       "    </tr>\n",
       "    <tr>\n",
       "      <th>10</th>\n",
       "      <td>11</td>\n",
       "      <td>35468.426</td>\n",
       "    </tr>\n",
       "    <tr>\n",
       "      <th>11</th>\n",
       "      <td>12</td>\n",
       "      <td>43369.192</td>\n",
       "    </tr>\n",
       "  </tbody>\n",
       "</table>\n",
       "</div>"
      ],
      "text/plain": [
       "    mm  total_profit\n",
       "0    1      9134.446\n",
       "1    2     10294.611\n",
       "2    3     28594.687\n",
       "3    4     11587.436\n",
       "4    5     22411.308\n",
       "5    6     21285.795\n",
       "6    7     13832.665\n",
       "7    8     21776.938\n",
       "8    9     36857.475\n",
       "9   10     31784.041\n",
       "10  11     35468.426\n",
       "11  12     43369.192"
      ]
     },
     "execution_count": 241,
     "metadata": {},
     "output_type": "execute_result"
    }
   ],
   "source": [
    "profitmm = df.groupby(\"mm\")[\"profit\"].sum().reset_index(name=\"total_profit\")\n",
    "profitmm"
   ]
  },
  {
   "cell_type": "code",
   "execution_count": 242,
   "metadata": {},
   "outputs": [
    {
     "data": {
      "text/plain": [
       "<BarContainer object of 12 artists>"
      ]
     },
     "execution_count": 242,
     "metadata": {},
     "output_type": "execute_result"
    },
    {
     "data": {
      "image/png": "[encoded data removed]",
      "text/plain": [
       "<Figure size 640x480 with 1 Axes>"
      ]
     },
     "metadata": {},
     "output_type": "display_data"
    }
   ],
   "source": [
    "plt.bar(profitmm[\"mm\"], profitmm[\"total_profit\"])"
   ]
  },
  {
   "attachments": {},
   "cell_type": "markdown",
   "metadata": {},
   "source": [
    "Insight"
   ]
  },
  {
   "attachments": {},
   "cell_type": "markdown",
   "metadata": {},
   "source": [
    "1. Selama periode Januari 2014 hingga Desember 2017. Nilai Profit mengalami tren peningkatan. Dapat dibuktikan dengan plot yang ada."
   ]
  },
  {
   "attachments": {},
   "cell_type": "markdown",
   "metadata": {},
   "source": [
    "2. Di bulan ke-12 terjadi peningkatan yang cukup tinggi dibandingkan dengan bulan lainnya. Sedangkan pada bulan 1, 2, 4 dan 7 profit yang didapatkan pada bulan itu rendah jika dibandingkan bulan yang lainnya. Khususnya pada bulan ke-1 yang mencapai titik minimum profit."
   ]
  },
  {
   "attachments": {},
   "cell_type": "markdown",
   "metadata": {},
   "source": [
    "## Statistics Descriptive Analysis"
   ]
  },
  {
   "attachments": {},
   "cell_type": "markdown",
   "metadata": {},
   "source": [
    "Statistics Descriptive Analysis yang akan dilakukan adalah central tendency untuk nilai profit setiap bulannya"
   ]
  },
  {
   "cell_type": "code",
   "execution_count": 243,
   "metadata": {},
   "outputs": [
    {
     "data": {
      "text/html": [
       "<div>\n",
       "<style scoped>\n",
       "    .dataframe tbody tr th:only-of-type {\n",
       "        vertical-align: middle;\n",
       "    }\n",
       "\n",
       "    .dataframe tbody tr th {\n",
       "        vertical-align: top;\n",
       "    }\n",
       "\n",
       "    .dataframe thead th {\n",
       "        text-align: right;\n",
       "    }\n",
       "</style>\n",
       "<table border=\"1\" class=\"dataframe\">\n",
       "  <thead>\n",
       "    <tr style=\"text-align: right;\">\n",
       "      <th></th>\n",
       "      <th>my</th>\n",
       "      <th>total_profit</th>\n",
       "    </tr>\n",
       "  </thead>\n",
       "  <tbody>\n",
       "    <tr>\n",
       "      <th>0</th>\n",
       "      <td>2014-01</td>\n",
       "      <td>2450.191</td>\n",
       "    </tr>\n",
       "    <tr>\n",
       "      <th>1</th>\n",
       "      <td>2014-02</td>\n",
       "      <td>862.308</td>\n",
       "    </tr>\n",
       "    <tr>\n",
       "      <th>2</th>\n",
       "      <td>2014-03</td>\n",
       "      <td>498.730</td>\n",
       "    </tr>\n",
       "    <tr>\n",
       "      <th>3</th>\n",
       "      <td>2014-04</td>\n",
       "      <td>3488.835</td>\n",
       "    </tr>\n",
       "    <tr>\n",
       "      <th>4</th>\n",
       "      <td>2014-05</td>\n",
       "      <td>2738.710</td>\n",
       "    </tr>\n",
       "    <tr>\n",
       "      <th>5</th>\n",
       "      <td>2014-06</td>\n",
       "      <td>4976.524</td>\n",
       "    </tr>\n",
       "    <tr>\n",
       "      <th>6</th>\n",
       "      <td>2014-07</td>\n",
       "      <td>-841.483</td>\n",
       "    </tr>\n",
       "    <tr>\n",
       "      <th>7</th>\n",
       "      <td>2014-08</td>\n",
       "      <td>5318.105</td>\n",
       "    </tr>\n",
       "    <tr>\n",
       "      <th>8</th>\n",
       "      <td>2014-09</td>\n",
       "      <td>8328.099</td>\n",
       "    </tr>\n",
       "    <tr>\n",
       "      <th>9</th>\n",
       "      <td>2014-10</td>\n",
       "      <td>3448.257</td>\n",
       "    </tr>\n",
       "    <tr>\n",
       "      <th>10</th>\n",
       "      <td>2014-11</td>\n",
       "      <td>9292.127</td>\n",
       "    </tr>\n",
       "    <tr>\n",
       "      <th>11</th>\n",
       "      <td>2014-12</td>\n",
       "      <td>8983.570</td>\n",
       "    </tr>\n",
       "    <tr>\n",
       "      <th>12</th>\n",
       "      <td>2015-01</td>\n",
       "      <td>-3281.007</td>\n",
       "    </tr>\n",
       "    <tr>\n",
       "      <th>13</th>\n",
       "      <td>2015-02</td>\n",
       "      <td>2813.851</td>\n",
       "    </tr>\n",
       "    <tr>\n",
       "      <th>14</th>\n",
       "      <td>2015-03</td>\n",
       "      <td>9732.098</td>\n",
       "    </tr>\n",
       "    <tr>\n",
       "      <th>15</th>\n",
       "      <td>2015-04</td>\n",
       "      <td>4187.496</td>\n",
       "    </tr>\n",
       "    <tr>\n",
       "      <th>16</th>\n",
       "      <td>2015-05</td>\n",
       "      <td>4667.869</td>\n",
       "    </tr>\n",
       "    <tr>\n",
       "      <th>17</th>\n",
       "      <td>2015-06</td>\n",
       "      <td>3335.557</td>\n",
       "    </tr>\n",
       "    <tr>\n",
       "      <th>18</th>\n",
       "      <td>2015-07</td>\n",
       "      <td>3288.648</td>\n",
       "    </tr>\n",
       "    <tr>\n",
       "      <th>19</th>\n",
       "      <td>2015-08</td>\n",
       "      <td>5355.808</td>\n",
       "    </tr>\n",
       "    <tr>\n",
       "      <th>20</th>\n",
       "      <td>2015-09</td>\n",
       "      <td>8209.163</td>\n",
       "    </tr>\n",
       "    <tr>\n",
       "      <th>21</th>\n",
       "      <td>2015-10</td>\n",
       "      <td>2817.366</td>\n",
       "    </tr>\n",
       "    <tr>\n",
       "      <th>22</th>\n",
       "      <td>2015-11</td>\n",
       "      <td>12474.788</td>\n",
       "    </tr>\n",
       "    <tr>\n",
       "      <th>23</th>\n",
       "      <td>2015-12</td>\n",
       "      <td>8016.966</td>\n",
       "    </tr>\n",
       "    <tr>\n",
       "      <th>24</th>\n",
       "      <td>2016-01</td>\n",
       "      <td>2824.823</td>\n",
       "    </tr>\n",
       "    <tr>\n",
       "      <th>25</th>\n",
       "      <td>2016-02</td>\n",
       "      <td>5004.579</td>\n",
       "    </tr>\n",
       "    <tr>\n",
       "      <th>26</th>\n",
       "      <td>2016-03</td>\n",
       "      <td>3611.968</td>\n",
       "    </tr>\n",
       "    <tr>\n",
       "      <th>27</th>\n",
       "      <td>2016-04</td>\n",
       "      <td>2977.815</td>\n",
       "    </tr>\n",
       "    <tr>\n",
       "      <th>28</th>\n",
       "      <td>2016-05</td>\n",
       "      <td>8662.146</td>\n",
       "    </tr>\n",
       "    <tr>\n",
       "      <th>29</th>\n",
       "      <td>2016-06</td>\n",
       "      <td>4750.378</td>\n",
       "    </tr>\n",
       "    <tr>\n",
       "      <th>30</th>\n",
       "      <td>2016-07</td>\n",
       "      <td>4432.878</td>\n",
       "    </tr>\n",
       "    <tr>\n",
       "      <th>31</th>\n",
       "      <td>2016-08</td>\n",
       "      <td>2062.069</td>\n",
       "    </tr>\n",
       "    <tr>\n",
       "      <th>32</th>\n",
       "      <td>2016-09</td>\n",
       "      <td>9328.658</td>\n",
       "    </tr>\n",
       "    <tr>\n",
       "      <th>33</th>\n",
       "      <td>2016-10</td>\n",
       "      <td>16243.142</td>\n",
       "    </tr>\n",
       "    <tr>\n",
       "      <th>34</th>\n",
       "      <td>2016-11</td>\n",
       "      <td>4011.407</td>\n",
       "    </tr>\n",
       "    <tr>\n",
       "      <th>35</th>\n",
       "      <td>2016-12</td>\n",
       "      <td>17885.309</td>\n",
       "    </tr>\n",
       "    <tr>\n",
       "      <th>36</th>\n",
       "      <td>2017-01</td>\n",
       "      <td>7140.439</td>\n",
       "    </tr>\n",
       "    <tr>\n",
       "      <th>37</th>\n",
       "      <td>2017-02</td>\n",
       "      <td>1613.872</td>\n",
       "    </tr>\n",
       "    <tr>\n",
       "      <th>38</th>\n",
       "      <td>2017-03</td>\n",
       "      <td>14751.891</td>\n",
       "    </tr>\n",
       "    <tr>\n",
       "      <th>39</th>\n",
       "      <td>2017-04</td>\n",
       "      <td>933.290</td>\n",
       "    </tr>\n",
       "    <tr>\n",
       "      <th>40</th>\n",
       "      <td>2017-05</td>\n",
       "      <td>6342.583</td>\n",
       "    </tr>\n",
       "    <tr>\n",
       "      <th>41</th>\n",
       "      <td>2017-06</td>\n",
       "      <td>8223.336</td>\n",
       "    </tr>\n",
       "    <tr>\n",
       "      <th>42</th>\n",
       "      <td>2017-07</td>\n",
       "      <td>6952.621</td>\n",
       "    </tr>\n",
       "    <tr>\n",
       "      <th>43</th>\n",
       "      <td>2017-08</td>\n",
       "      <td>9040.956</td>\n",
       "    </tr>\n",
       "    <tr>\n",
       "      <th>44</th>\n",
       "      <td>2017-09</td>\n",
       "      <td>10991.556</td>\n",
       "    </tr>\n",
       "    <tr>\n",
       "      <th>45</th>\n",
       "      <td>2017-10</td>\n",
       "      <td>9275.275</td>\n",
       "    </tr>\n",
       "    <tr>\n",
       "      <th>46</th>\n",
       "      <td>2017-11</td>\n",
       "      <td>9690.104</td>\n",
       "    </tr>\n",
       "    <tr>\n",
       "      <th>47</th>\n",
       "      <td>2017-12</td>\n",
       "      <td>8483.347</td>\n",
       "    </tr>\n",
       "  </tbody>\n",
       "</table>\n",
       "</div>"
      ],
      "text/plain": [
       "         my  total_profit\n",
       "0   2014-01      2450.191\n",
       "1   2014-02       862.308\n",
       "2   2014-03       498.730\n",
       "3   2014-04      3488.835\n",
       "4   2014-05      2738.710\n",
       "5   2014-06      4976.524\n",
       "6   2014-07      -841.483\n",
       "7   2014-08      5318.105\n",
       "8   2014-09      8328.099\n",
       "9   2014-10      3448.257\n",
       "10  2014-11      9292.127\n",
       "11  2014-12      8983.570\n",
       "12  2015-01     -3281.007\n",
       "13  2015-02      2813.851\n",
       "14  2015-03      9732.098\n",
       "15  2015-04      4187.496\n",
       "16  2015-05      4667.869\n",
       "17  2015-06      3335.557\n",
       "18  2015-07      3288.648\n",
       "19  2015-08      5355.808\n",
       "20  2015-09      8209.163\n",
       "21  2015-10      2817.366\n",
       "22  2015-11     12474.788\n",
       "23  2015-12      8016.966\n",
       "24  2016-01      2824.823\n",
       "25  2016-02      5004.579\n",
       "26  2016-03      3611.968\n",
       "27  2016-04      2977.815\n",
       "28  2016-05      8662.146\n",
       "29  2016-06      4750.378\n",
       "30  2016-07      4432.878\n",
       "31  2016-08      2062.069\n",
       "32  2016-09      9328.658\n",
       "33  2016-10     16243.142\n",
       "34  2016-11      4011.407\n",
       "35  2016-12     17885.309\n",
       "36  2017-01      7140.439\n",
       "37  2017-02      1613.872\n",
       "38  2017-03     14751.891\n",
       "39  2017-04       933.290\n",
       "40  2017-05      6342.583\n",
       "41  2017-06      8223.336\n",
       "42  2017-07      6952.621\n",
       "43  2017-08      9040.956\n",
       "44  2017-09     10991.556\n",
       "45  2017-10      9275.275\n",
       "46  2017-11      9690.104\n",
       "47  2017-12      8483.347"
      ]
     },
     "execution_count": 243,
     "metadata": {},
     "output_type": "execute_result"
    }
   ],
   "source": [
    "profitmy # Table yang digunakan profit dari bulan-tahun"
   ]
  },
  {
   "cell_type": "code",
   "execution_count": 245,
   "metadata": {},
   "outputs": [
    {
     "name": "stderr",
     "output_type": "stream",
     "text": [
      "C:\\Users\\User\\AppData\\Local\\Temp\\ipykernel_11160\\2290928854.py:1: UserWarning: \n",
      "\n",
      "`distplot` is a deprecated function and will be removed in seaborn v0.14.0.\n",
      "\n",
      "Please adapt your code to use either `displot` (a figure-level function with\n",
      "similar flexibility) or `histplot` (an axes-level function for histograms).\n",
      "\n",
      "For a guide to updating your code to use the new functions, please see\n",
      "https://gist.github.com/mwaskom/de44147ed2974457ad6372750bbe5751\n",
      "\n",
      "  sns.distplot(profitmy['total_profit'])\n"
     ]
    },
    {
     "data": {
      "text/plain": [
       "<matplotlib.legend.Legend at 0x16ce2995490>"
      ]
     },
     "execution_count": 245,
     "metadata": {},
     "output_type": "execute_result"
    },
    {
     "data": {
      "image/png": "[encoded data removed]",
      "text/plain": [
       "<Figure size 640x480 with 1 Axes>"
      ]
     },
     "metadata": {},
     "output_type": "display_data"
    }
   ],
   "source": [
    "# Visual kan data agar mudah dibaca\n",
    "\n",
    "sns.distplot(profitmy['total_profit'])\n",
    "plt.axvline(profitmy['total_profit'].mean(), color='magenta', linestyle='dashed', linewidth=2, label='Mean')\n",
    "plt.axvline(profitmy['total_profit'].median(), color='green', linestyle='dashed', linewidth=2, label='Median')\n",
    "plt.axvline(profitmy['total_profit'].min(), color='red', linestyle='dashed', linewidth=2, label='Min/max')\n",
    "plt.axvline(profitmy['total_profit'].max(), color='red', linestyle='dashed', linewidth=2)\n",
    "plt.legend()"
   ]
  },
  {
   "cell_type": "code",
   "execution_count": 248,
   "metadata": {},
   "outputs": [
    {
     "name": "stdout",
     "output_type": "stream",
     "text": [
      "Min: -3281.007000000001\n",
      "Median: 4990.551949999999\n",
      "Mean: 5966.604618749999\n",
      "Max: 17885.309299999997\n"
     ]
    }
   ],
   "source": [
    "print ('Min: ' + str(profitmy['total_profit'].min()))\n",
    "print ('Median: ' + str(profitmy['total_profit'].median()))\n",
    "print ('Mean: ' + str(profitmy['total_profit'].mean()))\n",
    "print ('Max: ' + str(profitmy['total_profit'].max()))"
   ]
  },
  {
   "attachments": {},
   "cell_type": "markdown",
   "metadata": {},
   "source": [
    "Insight"
   ]
  },
  {
   "attachments": {},
   "cell_type": "markdown",
   "metadata": {},
   "source": [
    "Dari Table dapat didapatkan bahwa Median dari nilai total profit perbulannya ialah 4990 dan untuk meannya adalah 5966. Dari table juga diketahui bahwa table miring kekanan, dapat dibuktikan dari nilai median > mean."
   ]
  },
  {
   "attachments": {},
   "cell_type": "markdown",
   "metadata": {},
   "source": [
    "## Statistics Descriptive Inferential"
   ]
  },
  {
   "attachments": {},
   "cell_type": "markdown",
   "metadata": {},
   "source": [
    "Statistics Descriptive Inferential yang akan dilakukan adalah Two Samples Independent two tailed hypothesis testing. Dilakukan Two Samples Independent two tailed hypothesis testing karena nilai total revenue dari furniture dan office supplies dinilai cukup mirip. Oleh karena itu akan dicek apakah total revenue furniture dengan office supplies itu sama atau berbeda."
   ]
  },
  {
   "cell_type": "code",
   "execution_count": 161,
   "metadata": {},
   "outputs": [
    {
     "data": {
      "text/html": [
       "<div>\n",
       "<style scoped>\n",
       "    .dataframe tbody tr th:only-of-type {\n",
       "        vertical-align: middle;\n",
       "    }\n",
       "\n",
       "    .dataframe tbody tr th {\n",
       "        vertical-align: top;\n",
       "    }\n",
       "\n",
       "    .dataframe thead th {\n",
       "        text-align: right;\n",
       "    }\n",
       "</style>\n",
       "<table border=\"1\" class=\"dataframe\">\n",
       "  <thead>\n",
       "    <tr style=\"text-align: right;\">\n",
       "      <th></th>\n",
       "      <th>category</th>\n",
       "      <th>total_revenues</th>\n",
       "    </tr>\n",
       "  </thead>\n",
       "  <tbody>\n",
       "    <tr>\n",
       "      <th>0</th>\n",
       "      <td>Furniture</td>\n",
       "      <td>741999.795</td>\n",
       "    </tr>\n",
       "    <tr>\n",
       "      <th>1</th>\n",
       "      <td>Office Supplies</td>\n",
       "      <td>719047.032</td>\n",
       "    </tr>\n",
       "    <tr>\n",
       "      <th>2</th>\n",
       "      <td>Technology</td>\n",
       "      <td>836154.033</td>\n",
       "    </tr>\n",
       "  </tbody>\n",
       "</table>\n",
       "</div>"
      ],
      "text/plain": [
       "          category  total_revenues\n",
       "0        Furniture      741999.795\n",
       "1  Office Supplies      719047.032\n",
       "2       Technology      836154.033"
      ]
     },
     "execution_count": 161,
     "metadata": {},
     "output_type": "execute_result"
    }
   ],
   "source": [
    "totalr = df.groupby(\"category\")[\"sales\"].sum().reset_index(name=\"total_revenues\")\n",
    "totalr"
   ]
  },
  {
   "attachments": {},
   "cell_type": "markdown",
   "metadata": {},
   "source": [
    "Diketahui bahwa jumlah revenues Furniture dan Office Supplies hampir sama yaitu 741999 dan 719047.\n",
    "Hipotesis yang akan dilakukan ialah apakah revenues furniture dan office supplies Tidak mirip atau mirip."
   ]
  },
  {
   "attachments": {},
   "cell_type": "markdown",
   "metadata": {},
   "source": [
    "Hipotesa yang akan dilakukan pada kasus ini:\n",
    "\n",
    "\n",
    "**H0: μ_furniture = μ_office_supplies**\n",
    "\n",
    "**H1: μ_furniture != μ_office_supplies**"
   ]
  },
  {
   "cell_type": "code",
   "execution_count": null,
   "metadata": {},
   "outputs": [],
   "source": [
    "furniture_revenue = df[df.category == 'Furniture'].groupby('my').sum()['sales'].reset_index() # Query data furniture\n",
    "office_revenue = df[df.category == 'Office Supplies'].groupby('my').sum()['sales'].reset_index() # Query data Office Supplies"
   ]
  },
  {
   "cell_type": "code",
   "execution_count": 272,
   "metadata": {},
   "outputs": [
    {
     "name": "stdout",
     "output_type": "stream",
     "text": [
      "Monthly Average revenue of Furniture :  15458.32906875\n",
      "Monthly Average revenue of Office Supplies :  14980.146499999997\n"
     ]
    }
   ],
   "source": [
    "# Cek apakah mean dari data yang ada mirip atau tidak\n",
    "print(\"Monthly Average revenue of Furniture : \",furniture_revenue[\"sales\"].mean())\n",
    "print(\"Monthly Average revenue of Office Supplies : \",office_revenue[\"sales\"].mean())"
   ]
  },
  {
   "cell_type": "code",
   "execution_count": 164,
   "metadata": {},
   "outputs": [
    {
     "name": "stdout",
     "output_type": "stream",
     "text": [
      "P-value: 0.7912586847739036\n",
      "t-statistics: 0.2654310183706294\n"
     ]
    }
   ],
   "source": [
    "# mencari t_stat dan p_val nya\n",
    "t_stat, p_val = stats.ttest_ind(furniture_revenue[\"sales\"],office_revenue[\"sales\"])\n",
    "print('P-value:',p_val)\n",
    "print('t-statistics:',t_stat)"
   ]
  },
  {
   "cell_type": "code",
   "execution_count": 165,
   "metadata": {},
   "outputs": [
    {
     "name": "stderr",
     "output_type": "stream",
     "text": [
      "C:\\Users\\User\\AppData\\Local\\Temp\\ipykernel_11160\\1915113717.py:6: UserWarning: \n",
      "\n",
      "`distplot` is a deprecated function and will be removed in seaborn v0.14.0.\n",
      "\n",
      "Please adapt your code to use either `displot` (a figure-level function with\n",
      "similar flexibility) or `histplot` (an axes-level function for histograms).\n",
      "\n",
      "For a guide to updating your code to use the new functions, please see\n",
      "https://gist.github.com/mwaskom/de44147ed2974457ad6372750bbe5751\n",
      "\n",
      "  sns.distplot(furniture_pop, label='Furnitue Sales a Month *Pop',color='blue')\n",
      "C:\\Users\\User\\AppData\\Local\\Temp\\ipykernel_11160\\1915113717.py:7: UserWarning: \n",
      "\n",
      "`distplot` is a deprecated function and will be removed in seaborn v0.14.0.\n",
      "\n",
      "Please adapt your code to use either `displot` (a figure-level function with\n",
      "similar flexibility) or `histplot` (an axes-level function for histograms).\n",
      "\n",
      "For a guide to updating your code to use the new functions, please see\n",
      "https://gist.github.com/mwaskom/de44147ed2974457ad6372750bbe5751\n",
      "\n",
      "  sns.distplot(office_pop, label='Office Sales a Month *Pop',color='red')\n"
     ]
    },
    {
     "data": {
      "text/plain": [
       "<matplotlib.legend.Legend at 0x16cdddef410>"
      ]
     },
     "execution_count": 165,
     "metadata": {},
     "output_type": "execute_result"
    },
    {
     "data": {
      "image/png": "[encoded data removed]",
      "text/plain": [
       "<Figure size 1600x500 with 1 Axes>"
      ]
     },
     "metadata": {},
     "output_type": "display_data"
    }
   ],
   "source": [
    "furniture_pop = np.random.normal(furniture_revenue.sales.mean(),furniture_revenue.sales.std(),10000)\n",
    "office_pop = np.random.normal(office_revenue.sales.mean(),office_revenue.sales.std(),10000)\n",
    "\n",
    "ci = stats.norm.interval(0.95, furniture_revenue.sales.mean(), furniture_revenue.sales.std())\n",
    "plt.figure(figsize=(16,5))\n",
    "sns.distplot(furniture_pop, label='Furnitue Sales a Month *Pop',color='blue')\n",
    "sns.distplot(office_pop, label='Office Sales a Month *Pop',color='red')\n",
    "\n",
    "plt.axvline(furniture_revenue.sales.mean(), color='blue', linewidth=2, label='furniture mean')\n",
    "plt.axvline(office_revenue.sales.mean(), color='red',  linewidth=2, label='office mean')\n",
    "\n",
    "plt.axvline(ci[1], color='green', linestyle='dashed', linewidth=2, label='confidence threshold of 95%')\n",
    "plt.axvline(ci[0], color='green', linestyle='dashed', linewidth=2)\n",
    "\n",
    "plt.axvline(furniture_pop.mean()+ t_stat*furniture_pop.std(), color='black', linestyle='dashed', linewidth=2, label = 'Alternative Hypothesis')\n",
    "plt.axvline(furniture_pop.mean()- t_stat*furniture_pop.std(), color='black', linestyle='dashed', linewidth=2)\n",
    "\n",
    "plt.legend()"
   ]
  },
  {
   "attachments": {},
   "cell_type": "markdown",
   "metadata": {},
   "source": [
    "Insight"
   ]
  },
  {
   "attachments": {},
   "cell_type": "markdown",
   "metadata": {},
   "source": [
    "Didapatkan bahwa nilai p-val dari total revenue furniture dan office supplies 0.791. Karena nilai p-val lebih dari 0.05 maka kita gagal menolak hipotesis null atau berarti kita gagal menolak hipotesis total revenues furniture dan office supplies itu mirip. Yang berarti tidak ada perbedaan yang signifikan dari jumlah revenue furniture dan office supplies. Dapat dibuktikan dari kemiripan yang ada di plot."
   ]
  },
  {
   "attachments": {},
   "cell_type": "markdown",
   "metadata": {},
   "source": [
    "# Overall Analysis"
   ]
  },
  {
   "attachments": {},
   "cell_type": "markdown",
   "metadata": {},
   "source": [
    "Dari analisa yang telah dilakukan dapat diketahui bahwa perusahaan masih bisa meningktakan tingkat keefisienan usaha. Seperti dengan cara memprioritaskan menjual barang berkategori technology, karena memiliki jumlah profit tertinggi untuk setiap barang yang terjual. Setelah memprioritaskan barang berkategori Technology kita bisa menjual barang yang sangat diminati oleh pasar yaitu barang dengan kategori Office Supplies. Pengusaha bisa mengabaikan fokus untuk menjual barang berkategori furniture karena furniture memiliki profit margin yang sangat kecil atau bahkan pengusaha dapat rugi dalam menjual barang berkategori furniture. Oleh karena itu lebih baik untuk hanya menjual 2 kategori barang yaitu Technology dan Office Supplies.\n",
    "\n",
    "Dalam kategori barang technology ada barang yang harus di prioritaskan untuk dijual yaitu Copiers, karena profit untuk setiap penjualan Copiers adalah 237 dollar atau hampir 17 kali lipat dari profit barang tertinggi no 2. Untuk barang yang harus ditinggalkan dijual adalah Tables, Bookcase dan Supplies karena pengusaha akan mengalami kerugian saat menjual kedua barang tersebut.\n",
    "\n",
    "Untuk segment konsumen kita masih dapat meningkatkan setiap segment. Karena semua segment konsumen masih memilki tren yang positif.\n",
    "\n",
    "Untuk state yang harus dibenahi ada 10 state yaitu 'Texas', 'Ohio', 'Pennsylvania', 'Illinois', 'North Carolina','Colorado', 'Tennessee', 'Arizona', 'Florida', 'Oregon'. 10 State tersebut harus dibenahi karena 10 state tersebut tidaklah menghasilkan keuntungan, namun hanya menghasilkan kerugian.\n",
    "\n",
    "Secara keseluruhan perusahaan masih berada pada jalur yang benar. Karena tren Jumlah revenues, profit dan quantity masih meningkat."
   ]
  }
 ],
 "metadata": {
  "kernelspec": {
   "display_name": "Python 3",
   "language": "python",
   "name": "python3"
  },
  "language_info": {
   "codemirror_mode": {
    "name": "ipython",
    "version": 3
   },
   "file_extension": ".py",
   "mimetype": "text/x-python",
   "name": "python",
   "nbconvert_exporter": "python",
   "pygments_lexer": "ipython3",
   "version": "3.11.1"
  },
  "orig_nbformat": 4,
  "vscode": {
   "interpreter": {
    "hash": "ebfc0a8d552866b0d59eba665220a57de3bc06f3ac643b8bef38dd8f66781fdd"
   }
  }
 },
 "nbformat": 4,
 "nbformat_minor": 2
}
